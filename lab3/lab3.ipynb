{
 "cells": [
  {
   "cell_type": "markdown",
   "metadata": {},
   "source": [
    "# lab3 - Levenshtein distance and spelling corrections\n",
    "\n",
    "The task introduces the Levenshtein distance - a measure that is useful in tasks such as approximate string matching."
   ]
  },
  {
   "cell_type": "code",
   "execution_count": 1,
   "metadata": {},
   "outputs": [],
   "source": [
    "from elasticsearch import Elasticsearch\n",
    "import matplotlib.pyplot as plt\n",
    "import numpy as np\n",
    "from pathlib import Path\n",
    "from itertools import chain\n",
    "import Levenshtein as lev\n",
    "from typing import Dict"
   ]
  },
  {
   "cell_type": "code",
   "execution_count": 2,
   "metadata": {},
   "outputs": [],
   "source": [
    "es = Elasticsearch()"
   ]
  },
  {
   "cell_type": "markdown",
   "metadata": {},
   "source": [
    "## Tasks"
   ]
  },
  {
   "cell_type": "markdown",
   "metadata": {},
   "source": [
    "1. Use ElasticSearch term vectors API to retrieve and store for each document the following data:\n",
    "   1. The terms (tokens) that are present in the document.\n",
    "   2. The number of times given term is present in the document.\n",
    "   "
   ]
  },
  {
   "cell_type": "code",
   "execution_count": 3,
   "metadata": {},
   "outputs": [],
   "source": [
    "indices = [h[\"_id\"] for h in es.search(\n",
    "    index=\"przewie\",\n",
    "    doc_type=\"act\",\n",
    "    body={\n",
    "        \"query\": {\n",
    "            \"match_all\": {}\n",
    "            }\n",
    "        },\n",
    "    size=2000\n",
    ")[\"hits\"][\"hits\"]]"
   ]
  },
  {
   "cell_type": "code",
   "execution_count": 4,
   "metadata": {},
   "outputs": [],
   "source": [
    "result = {\n",
    "    i: {\n",
    "        token: metadata[\"term_freq\"]\n",
    "        for token, metadata in es.termvectors(\"przewie\", \"act\", i, term_statistics=True, fields=[\"text\"])[\"term_vectors\"][\"text\"][\"terms\"].items()\n",
    "    }\n",
    "    for i in indices\n",
    "}\n",
    "result;"
   ]
  },
  {
   "cell_type": "markdown",
   "metadata": {},
   "source": [
    "2. Aggregate the result to obtain one global **frequency list**."
   ]
  },
  {
   "cell_type": "code",
   "execution_count": 5,
   "metadata": {},
   "outputs": [],
   "source": [
    "global_result = {}\n",
    "\n",
    "for r in result.values():\n",
    "    for token, freq in r.items():\n",
    "        global_result[token] = global_result.get(token, 0) + freq\n",
    "\n",
    "global_result;"
   ]
  },
  {
   "cell_type": "markdown",
   "metadata": {},
   "source": [
    "3. Filter the list to keep terms that contain only letters and have at least 2 of them."
   ]
  },
  {
   "cell_type": "code",
   "execution_count": 6,
   "metadata": {},
   "outputs": [],
   "source": [
    "filtered_result = {\n",
    "    k: v \n",
    "    for k, v in global_result.items()\n",
    "    if len(k) > 2 and k.isalpha()\n",
    "}\n",
    "\n",
    "filtered_result;"
   ]
  },
  {
   "cell_type": "markdown",
   "metadata": {},
   "source": [
    "4. Make a plot in a logarithmic scale:\n",
    "   1. X-axis should contain the **rank** of a term, meaning the first rank belongs to the term with the highest number of\n",
    "      occurrences; the terms with the same number of occurrences should be ordered by their name,\n",
    "   2. Y-axis should contain the **number of occurrences** of the term with given rank.\n",
    "   "
   ]
  },
  {
   "cell_type": "code",
   "execution_count": 7,
   "metadata": {},
   "outputs": [],
   "source": [
    "sorted_result = sorted(filtered_result.items(), key = lambda r: -r[1])"
   ]
  },
  {
   "cell_type": "code",
   "execution_count": 8,
   "metadata": {},
   "outputs": [
    {
     "data": {
      "text/plain": [
       "[<matplotlib.lines.Line2D at 0x7f32cadf7cc0>]"
      ]
     },
     "execution_count": 8,
     "metadata": {},
     "output_type": "execute_result"
    },
    {
     "data": {
      "image/png": "[encoded data removed]",
      "text/plain": [
       "<Figure size 432x288 with 1 Axes>"
      ]
     },
     "metadata": {
      "needs_background": "light"
     },
     "output_type": "display_data"
    }
   ],
   "source": [
    "plt.plot(list(range(len(sorted_result))), [np.log(r[1]) for r in sorted_result])"
   ]
  },
  {
   "cell_type": "markdown",
   "metadata": {},
   "source": [
    "5. Download [polimorfologik.zip](https://github.com/morfologik/polimorfologik/releases/download/2.1/polimorfologik-2.1.zip) dictionary\n",
    "   and use it to find all words that do not appear in that dictionary.\n",
    "   "
   ]
  },
  {
   "cell_type": "code",
   "execution_count": 9,
   "metadata": {},
   "outputs": [],
   "source": [
    "with Path(\"../data/polimorfologik/polimorfologik-2.1.txt\").open() as f:\n",
    "    polimorf = [l.split(\";\")[0:2] for l in f.readlines()]"
   ]
  },
  {
   "cell_type": "code",
   "execution_count": 10,
   "metadata": {},
   "outputs": [],
   "source": [
    "words = set(chain.from_iterable(polimorf))"
   ]
  },
  {
   "cell_type": "code",
   "execution_count": 11,
   "metadata": {},
   "outputs": [],
   "source": [
    "unknowns = {k:v for k,v in filtered_result.items() if k not in words}\n",
    "unknowns.keys();"
   ]
  },
  {
   "cell_type": "markdown",
   "metadata": {},
   "source": [
    "6. Find 30 words with the highest ranks that do not belong to the dictionary."
   ]
  },
  {
   "cell_type": "code",
   "execution_count": 12,
   "metadata": {},
   "outputs": [
    {
     "data": {
      "text/plain": [
       "[('margin', 1111),\n",
       " ('późn', 1080),\n",
       " ('family', 543),\n",
       " ('text', 529),\n",
       " ('mso', 448),\n",
       " ('bottom', 399),\n",
       " ('face', 326),\n",
       " ('panose', 326),\n",
       " ('serif', 319),\n",
       " ('GMO', 298),\n",
       " ('Times', 296),\n",
       " ('name', 254),\n",
       " ('size', 248),\n",
       " ('left', 233),\n",
       " ('right', 233),\n",
       " ('SWW', 227),\n",
       " ('SKW', 196),\n",
       " ('height', 168),\n",
       " ('line', 168),\n",
       " ('IKE', 162),\n",
       " ('indent', 121),\n",
       " ('remediacji', 120),\n",
       " ('VII', 111),\n",
       " ('URE', 101),\n",
       " ('UKE', 97),\n",
       " ('PKWiU', 81),\n",
       " ('UDT', 77),\n",
       " ('podw', 77),\n",
       " ('VIII', 72),\n",
       " ('BSWSG', 70)]"
      ]
     },
     "execution_count": 12,
     "metadata": {},
     "output_type": "execute_result"
    }
   ],
   "source": [
    "[r for r in sorted_result if r[0] not in words][:30]"
   ]
  },
  {
   "cell_type": "markdown",
   "metadata": {},
   "source": [
    "7. Find 30 words with 3 occurrences that do not belong to the dictionary."
   ]
  },
  {
   "cell_type": "code",
   "execution_count": 13,
   "metadata": {},
   "outputs": [],
   "source": [
    "unknowns_with_three_occurences = [r for r in sorted_result if r[0] not in words and r[1] == 3 ][:30]\n",
    "unknowns_with_three_occurences;"
   ]
  },
  {
   "cell_type": "markdown",
   "metadata": {},
   "source": [
    "8. Use Levenshtein distance and the frequency list, to determine the most probable correction of the words from the\n",
    "   second list."
   ]
  },
  {
   "cell_type": "code",
   "execution_count": 14,
   "metadata": {},
   "outputs": [],
   "source": [
    "knowns = {k:v for k,v in filtered_result.items() if k in words}"
   ]
  },
  {
   "cell_type": "code",
   "execution_count": 15,
   "metadata": {},
   "outputs": [],
   "source": [
    "def probable_correction(word: str, frequency_dict: Dict[str, int]) -> str:\n",
    "    return sorted(frequency_dict.keys(), key=lambda key: -np.log(frequency_dict[key]) / lev.distance(word, key))[0]"
   ]
  },
  {
   "cell_type": "code",
   "execution_count": 16,
   "metadata": {},
   "outputs": [
    {
     "data": {
      "text/plain": [
       "{'ności': 'ilości',\n",
       " 'publicz': 'publiczny',\n",
       " 'rytorialnego': 'terytorialny',\n",
       " 'szczegól': 'szczególny',\n",
       " 'terytorial': 'terytorialny',\n",
       " 'trzeżeniem': 'brzmienie',\n",
       " 'ubezpiecze': 'ubezpieczyć',\n",
       " 'zacją': 'zająć',\n",
       " 'zania': 'dana',\n",
       " 'zas': 'czas',\n",
       " 'świad': 'wiek',\n",
       " 'żetowych': 'który',\n",
       " 'cych': 'cech',\n",
       " 'winopodobne': 'wiek',\n",
       " 'winopodobnych': 'wiek',\n",
       " 'cidr': 'wiek',\n",
       " 'gigadżul': 'wiek',\n",
       " 'oszczędnościowokredytowych': 'ojciec',\n",
       " 'pra': 'gra',\n",
       " 'biorównoważności': 'równowartość',\n",
       " 'protokoł': 'protokół',\n",
       " 'jeeli': 'jeżeli',\n",
       " 'szkolnowychowawczym': 'wychowawczy',\n",
       " 'zadrzewieniach': 'brzmienie',\n",
       " 'asistent': 'asystent',\n",
       " 'medical': 'medal',\n",
       " 'XXXVI': 'wiek',\n",
       " 'wypożyczeń': 'pozycja',\n",
       " 'instrumentalistyki': 'numer',\n",
       " 'EUTC': 'wiek'}"
      ]
     },
     "execution_count": 16,
     "metadata": {},
     "output_type": "execute_result"
    }
   ],
   "source": [
    "{\n",
    "    w[0] : probable_correction(w[0], knowns)\n",
    "    for w in unknowns_with_three_occurences\n",
    "}"
   ]
  },
  {
   "cell_type": "markdown",
   "metadata": {},
   "source": [
    "## Hints\n",
    "\n",
    "1. Levenshtein distance (Edit distance) is a measure defined for any pair of strings. It is defined as the minimal\n",
    "   number of single character edits (insertions, deletions or substitutions) needed to transform one string to the\n",
    "   other. The measure is symmetric.\n",
    "1. The algorithm is usually implemented as a dynamic program, see [Wikipedia article](https://en.wikipedia.org/wiki/Levenshtein_distance) \n",
    "   for details.\n",
    "1. The distance may be used to fix an invalid word by inspecting in the growing order of the distance, the words\n",
    "   that are *n* edits away from the invalid word. If there are no words *n* edits away, the words *n+1* edits away \n",
    "   are inspected.\n",
    "1. The frequency list may be used to select the most popular word with given distance, if there are many candidate\n",
    "   corrections.\n",
    "1. Usually the correction algorithm does not use the edit distance directly, since it would require to compare the\n",
    "   invalid word with all words in the dictionary. The algorithms work in the opposite way - the generate candidate words\n",
    "   that are 1 or 2 edits away from the invalid word (cf. P. Norvigs [article](https://norvig.com/spell-correct.html) \n",
    "   for the details). A different approach is to use [Levenshtein automaton](https://norvig.com/spell-correct.html) for\n",
    "   finding the corrections effectively.\n",
    "1. ElasticSearch has a [fuzziness](https://www.elastic.co/guide/en/elasticsearch/reference/current/query-dsl-fuzzy-query.html)\n",
    "   parameter for finding approximate matches of a query."
   ]
  }
 ],
 "metadata": {
  "kernelspec": {
   "display_name": "Python (ml)",
   "language": "python",
   "name": "ml"
  },
  "language_info": {
   "codemirror_mode": {
    "name": "ipython",
    "version": 3
   },
   "file_extension": ".py",
   "mimetype": "text/x-python",
   "name": "python",
   "nbconvert_exporter": "python",
   "pygments_lexer": "ipython3",
   "version": "3.7.1"
  }
 },
 "nbformat": 4,
 "nbformat_minor": 2
}
