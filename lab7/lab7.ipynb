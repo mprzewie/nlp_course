{
 "cells": [
  {
   "cell_type": "markdown",
   "metadata": {},
   "source": [
    "# lab7 - word2vec"
   ]
  },
  {
   "cell_type": "code",
   "execution_count": 36,
   "metadata": {},
   "outputs": [],
   "source": [
    "from pathlib import Path\n",
    "from gensim.models import KeyedVectors\n",
    "from sklearn.manifold import TSNE\n",
    "import numpy as np\n",
    "from copy import deepcopy\n",
    "import matplotlib.pyplot as plt"
   ]
  },
  {
   "cell_type": "markdown",
   "metadata": {},
   "source": [
    "The tasks concentrates on the recent development in representing words as dense vectors in highly dimiensional spaces.\n",
    "\n",
    "## Tasks\n",
    "\n",
    "1. Read the documentation of [word2vec](https://radimrehurek.com/gensim/models/word2vec.html) in Gensim library.\n",
    "2. Download polish word embeddings for word2vec from [Clarin](https://clarin-pl.eu/dspace/handle/11321/327)."
   ]
  },
  {
   "cell_type": "code",
   "execution_count": 2,
   "metadata": {},
   "outputs": [],
   "source": [
    "data_path = Path(\"../embeddings/\")\n",
    "\n",
    "if not data_path.exists():\n",
    "    data_path.mkdir()\n",
    "    # download to that dir"
   ]
  },
  {
   "cell_type": "code",
   "execution_count": 4,
   "metadata": {},
   "outputs": [],
   "source": [
    "model = KeyedVectors.load_word2vec_format(data_path / \"skipgram\"/\"skip_gram_v100m8.w2v.txt\", binary=False)"
   ]
  },
  {
   "cell_type": "code",
   "execution_count": 20,
   "metadata": {},
   "outputs": [],
   "source": [
    "words = [w.split(\"::\") for w in model.vocab.keys()]"
   ]
  },
  {
   "cell_type": "code",
   "execution_count": 21,
   "metadata": {},
   "outputs": [],
   "source": [
    "def in_vocab(word):\n",
    "    return [w for w in words if word in w[0]]"
   ]
  },
  {
   "cell_type": "markdown",
   "metadata": {},
   "source": [
    "3. Using the downloaded model find the most similar word or expressions for the following expressions:"
   ]
  },
  {
   "cell_type": "markdown",
   "metadata": {},
   "source": [
    "a) sąd wysoki"
   ]
  },
  {
   "cell_type": "code",
   "execution_count": 9,
   "metadata": {},
   "outputs": [
    {
     "data": {
      "text/plain": [
       "[('niski::adj', 0.8020479679107666),\n",
       " ('sędzia::noun', 0.7290623188018799),\n",
       " ('bowiem::conj', 0.7081355452537537),\n",
       " ('ne#Mary_Ryan::noun', 0.7054499387741089),\n",
       " ('zaś::conj', 0.7033332586288452),\n",
       " ('uznaw::noun', 0.6843103766441345),\n",
       " ('wówczas::adv', 0.6842101216316223),\n",
       " ('ne#Sero-Rom::noun', 0.6833614110946655),\n",
       " ('trybunał::noun', 0.6831938028335571),\n",
       " ('alguacila::noun', 0.6808874607086182)]"
      ]
     },
     "execution_count": 9,
     "metadata": {},
     "output_type": "execute_result"
    }
   ],
   "source": [
    "model.most_similar([\"sąd::noun\", \"wysoki::adj\"])"
   ]
  },
  {
   "cell_type": "markdown",
   "metadata": {},
   "source": [
    "b) trybunał konstytucyjny"
   ]
  },
  {
   "cell_type": "code",
   "execution_count": 10,
   "metadata": {},
   "outputs": [
    {
     "data": {
      "text/plain": [
       "[('władza_sądownicza::noun', 0.839540958404541),\n",
       " ('parlament::noun', 0.8111734986305237),\n",
       " ('konstytucja::noun', 0.8090874552726746),\n",
       " ('ne#Trybunału::noun', 0.8031018972396851),\n",
       " ('bunałem::adj', 0.801645040512085),\n",
       " ('ustawa_zasadnicza::noun', 0.7985743880271912),\n",
       " ('władza_ustawodawcza::noun', 0.7971197366714478),\n",
       " ('ne#ETPC::noun', 0.7954705953598022),\n",
       " ('sądowniczy::adj', 0.7941318154335022),\n",
       " ('ne#Trybunał_Administracyjny::noun', 0.7935019731521606)]"
      ]
     },
     "execution_count": 10,
     "metadata": {},
     "output_type": "execute_result"
    }
   ],
   "source": [
    "model.most_similar([\"trybunał::noun\", \"konstytucyjny::adj\"])"
   ]
  },
  {
   "cell_type": "markdown",
   "metadata": {},
   "source": [
    "c) kodeks cywilny"
   ]
  },
  {
   "cell_type": "code",
   "execution_count": 11,
   "metadata": {},
   "outputs": [
    {
     "data": {
      "text/plain": [
       "[('przepis::noun', 0.7248944044113159),\n",
       " ('prawny::adj', 0.6942465305328369),\n",
       " ('busido::noun', 0.6904403567314148),\n",
       " ('ne#Kodeksy::noun', 0.6699978113174438),\n",
       " ('cywiln::noun', 0.6666579246520996),\n",
       " ('ne#Kodeks::noun', 0.6659103035926819),\n",
       " ('deksem::adv', 0.6633964776992798),\n",
       " ('prawo_karne::noun', 0.6610199213027954),\n",
       " ('wojskowy::adj', 0.6570290327072144),\n",
       " ('podstępować::noun', 0.6524724960327148)]"
      ]
     },
     "execution_count": 11,
     "metadata": {},
     "output_type": "execute_result"
    }
   ],
   "source": [
    "model.most_similar([\"kodeks::noun\", \"cywilny::adj\"])"
   ]
  },
  {
   "cell_type": "markdown",
   "metadata": {},
   "source": [
    "d) kpk"
   ]
  },
  {
   "cell_type": "code",
   "execution_count": 12,
   "metadata": {},
   "outputs": [
    {
     "data": {
      "text/plain": [
       "[('ne#Kodeksu_postępowania_karnego::noun', 0.8661121129989624),\n",
       " ('kpk::adj', 0.8617311120033264),\n",
       " ('kpc::noun', 0.8536956310272217),\n",
       " ('kk::noun', 0.8311821818351746),\n",
       " ('ppsa::noun', 0.8293906450271606),\n",
       " ('ne#KPC::noun', 0.8081650733947754),\n",
       " ('ne#Kodeksu_postępowania_w_sprawach_o_wykroczenia::noun',\n",
       "  0.8027453422546387),\n",
       " ('ne#Kpa::noun', 0.7999780178070068),\n",
       " ('kpow::noun', 0.7975168228149414),\n",
       " ('1kpk::adj', 0.7967638373374939)]"
      ]
     },
     "execution_count": 12,
     "metadata": {},
     "output_type": "execute_result"
    }
   ],
   "source": [
    "model.most_similar([\"kpk::noun\"])"
   ]
  },
  {
   "cell_type": "markdown",
   "metadata": {},
   "source": [
    "e) sąd rejonowy"
   ]
  },
  {
   "cell_type": "code",
   "execution_count": 13,
   "metadata": {},
   "outputs": [
    {
     "data": {
      "text/plain": [
       "[('sąd_okręgowy::noun', 0.8236081600189209),\n",
       " ('trybunał::noun', 0.7828972935676575),\n",
       " ('okręgowy::adj', 0.7680913209915161),\n",
       " ('sąd_apelacyjny::noun', 0.7675423622131348),\n",
       " ('asesoria::noun', 0.7622843980789185),\n",
       " ('sąd_grodzki::noun', 0.7618423700332642),\n",
       " ('apelacyjny::adj', 0.7599995136260986),\n",
       " ('arbitraż_społeczny::noun', 0.7554223537445068),\n",
       " ('ne#Rejonowego::noun', 0.7554162740707397),\n",
       " ('ne#Sądu::noun', 0.7551901340484619)]"
      ]
     },
     "execution_count": 13,
     "metadata": {},
     "output_type": "execute_result"
    }
   ],
   "source": [
    "model.most_similar([\"sąd::noun\", \"rejonowy::adj\"])"
   ]
  },
  {
   "cell_type": "markdown",
   "metadata": {},
   "source": [
    "f) szkoda"
   ]
  },
  {
   "cell_type": "code",
   "execution_count": 14,
   "metadata": {},
   "outputs": [
    {
     "data": {
      "text/plain": [
       "[('wyrządzić::verb', 0.7564010620117188),\n",
       " ('Krzywda::noun', 0.7515829205513),\n",
       " ('strata::noun', 0.7275083065032959),\n",
       " ('nieszczęście::noun', 0.7267874479293823),\n",
       " ('obawiać_się::verb', 0.7152366042137146),\n",
       " ('pożytek::noun', 0.7028508186340332),\n",
       " ('żałować::verb', 0.7016452550888062),\n",
       " ('korzyść::noun', 0.6929348707199097),\n",
       " ('skutek::noun', 0.691055178642273),\n",
       " ('przypuszczać::verb', 0.6901097297668457)]"
      ]
     },
     "execution_count": 14,
     "metadata": {},
     "output_type": "execute_result"
    }
   ],
   "source": [
    "model.most_similar([\"szkoda::noun\"])"
   ]
  },
  {
   "cell_type": "markdown",
   "metadata": {},
   "source": [
    "g) wypadek"
   ]
  },
  {
   "cell_type": "code",
   "execution_count": 15,
   "metadata": {},
   "outputs": [
    {
     "data": {
      "text/plain": [
       "[('przypadek::noun', 0.8552336692810059),\n",
       " ('okoliczność::noun', 0.8122090697288513),\n",
       " ('skutek::noun', 0.7716400027275085),\n",
       " ('sytuacja::noun', 0.761337161064148),\n",
       " ('zdarzenie::noun', 0.7389098405838013),\n",
       " ('zapewne::qub', 0.7356680631637573),\n",
       " ('przyczyna::noun', 0.7271959781646729),\n",
       " ('wydarzenie::noun', 0.7241967916488647),\n",
       " ('prawdopodobnie::adv', 0.7228392958641052),\n",
       " ('jednakże::qub', 0.7212308049201965)]"
      ]
     },
     "execution_count": 15,
     "metadata": {},
     "output_type": "execute_result"
    }
   ],
   "source": [
    "model.most_similar([\"wypadek::noun\"])"
   ]
  },
  {
   "cell_type": "markdown",
   "metadata": {},
   "source": [
    "h) kolizja"
   ]
  },
  {
   "cell_type": "code",
   "execution_count": 16,
   "metadata": {},
   "outputs": [
    {
     "data": {
      "text/plain": [
       "[('kolizja_drogowa::noun', 0.8072466850280762),\n",
       " ('kolizj::noun', 0.7978355288505554),\n",
       " ('wypadek_drogowy::noun', 0.7862640619277954),\n",
       " ('zderzenie::noun', 0.7812461256980896),\n",
       " ('zderzenie_czołowe::noun', 0.7508682608604431),\n",
       " ('kraksa::noun', 0.7374911308288574),\n",
       " ('stłuczka::noun', 0.7361664175987244),\n",
       " ('drogowyc::noun', 0.7356817126274109),\n",
       " ('zdarzać::noun', 0.7281510829925537),\n",
       " ('awaria::noun', 0.7276297807693481)]"
      ]
     },
     "execution_count": 16,
     "metadata": {},
     "output_type": "execute_result"
    }
   ],
   "source": [
    "model.most_similar([\"kolizja::noun\"])"
   ]
  },
  {
   "cell_type": "markdown",
   "metadata": {},
   "source": [
    "i) szkoda majątkowy"
   ]
  },
  {
   "cell_type": "code",
   "execution_count": 17,
   "metadata": {},
   "outputs": [
    {
     "data": {
      "text/plain": [
       "[('wyrządzo::noun', 0.7681843638420105),\n",
       " ('majątek::noun', 0.7525126934051514),\n",
       " ('ne#interesom_Państwa_Polskiego::noun', 0.7254406809806824),\n",
       " ('dowawczej::adj', 0.7123303413391113),\n",
       " ('biercy::noun', 0.7121618390083313),\n",
       " ('wyrzą::noun', 0.7055915594100952),\n",
       " ('emergens::noun', 0.70549476146698),\n",
       " ('niemajątkowy::adj', 0.7042748928070068),\n",
       " ('wyrządzić::verb', 0.7024750709533691),\n",
       " ('Krzywda::noun', 0.7019929885864258)]"
      ]
     },
     "execution_count": 17,
     "metadata": {},
     "output_type": "execute_result"
    }
   ],
   "source": [
    "model.most_similar([\"szkoda::noun\", \"majątkowy::adj\"])"
   ]
  },
  {
   "cell_type": "markdown",
   "metadata": {},
   "source": [
    "j) nieszczęście"
   ]
  },
  {
   "cell_type": "code",
   "execution_count": 18,
   "metadata": {},
   "outputs": [
    {
     "data": {
      "text/plain": [
       "[('niebezpieczeństwo::noun', 0.7715556621551514),\n",
       " ('klęska::noun', 0.7639137506484985),\n",
       " ('zguba::noun', 0.7612302303314209),\n",
       " ('zgryzota::noun', 0.7591318488121033),\n",
       " ('Krzywda::noun', 0.7577098608016968),\n",
       " ('strapienie::noun', 0.756998598575592),\n",
       " ('niedola::noun', 0.7511889934539795),\n",
       " ('los::noun', 0.7467725276947021),\n",
       " ('nieszczęśliwy::adj', 0.7430395483970642),\n",
       " ('utrapienie::noun', 0.7418053150177002)]"
      ]
     },
     "execution_count": 18,
     "metadata": {},
     "output_type": "execute_result"
    }
   ],
   "source": [
    "model.most_similar([\"nieszczęście::noun\"])"
   ]
  },
  {
   "cell_type": "markdown",
   "metadata": {},
   "source": [
    "k) rozwód   "
   ]
  },
  {
   "cell_type": "code",
   "execution_count": 19,
   "metadata": {},
   "outputs": [
    {
     "data": {
      "text/plain": [
       "[('małżeństwo::noun', 0.8230218291282654),\n",
       " ('rozwodowy::adj', 0.8101382255554199),\n",
       " ('rozwiedziony::adj', 0.7854081392288208),\n",
       " ('rozwieść_się::verb', 0.7774686217308044),\n",
       " ('rozwieść::verb', 0.7737049460411072),\n",
       " ('małżeńśtwa::noun', 0.7710735201835632),\n",
       " ('rozwiedzeni::noun', 0.7502768039703369),\n",
       " ('konkubinat::noun', 0.7491039633750916),\n",
       " ('rozwódka::noun', 0.7407065033912659),\n",
       " ('ne#Katarzyną_Aragońską::noun', 0.7383209466934204)]"
      ]
     },
     "execution_count": 19,
     "metadata": {},
     "output_type": "execute_result"
    }
   ],
   "source": [
    "model.most_similar([\"rozwód::noun\"])"
   ]
  },
  {
   "cell_type": "markdown",
   "metadata": {},
   "source": [
    "4. Find the result of the following equations (5 top results):\n",
    "\n",
    "a) sąd wysoki - kpc + konstytucja"
   ]
  },
  {
   "cell_type": "code",
   "execution_count": 22,
   "metadata": {},
   "outputs": [
    {
     "data": {
      "text/plain": [
       "[('rząd::noun', 0.7304977178573608),\n",
       " ('niski::adj', 0.7043129205703735),\n",
       " ('władza::noun', 0.6805161237716675),\n",
       " ('urząd::noun', 0.6599117517471313),\n",
       " ('stanowisko::noun', 0.655288815498352)]"
      ]
     },
     "execution_count": 22,
     "metadata": {},
     "output_type": "execute_result"
    }
   ],
   "source": [
    "model.most_similar([\"sąd::noun\", \"wysoki::adj\", \"konstytucja::noun\"], [\"kpc::noun\"])[:5]"
   ]
  },
  {
   "cell_type": "markdown",
   "metadata": {},
   "source": [
    "b) pasażer - mężczyzna + kobieta"
   ]
  },
  {
   "cell_type": "code",
   "execution_count": 23,
   "metadata": {},
   "outputs": [
    {
     "data": {
      "text/plain": [
       "[('podróżny::noun', 0.8415741920471191),\n",
       " ('współpasażer::noun', 0.7920055985450745),\n",
       " ('podróżujący::noun', 0.7550978660583496),\n",
       " ('kierowca::noun', 0.7446858286857605),\n",
       " ('bagażowy::noun', 0.7316379547119141)]"
      ]
     },
     "execution_count": 23,
     "metadata": {},
     "output_type": "execute_result"
    }
   ],
   "source": [
    "model.most_similar([\"pasażer::noun\", \"kobieta::noun\"], [\"mężczyzna::noun\"])[:5]"
   ]
  },
  {
   "cell_type": "markdown",
   "metadata": {},
   "source": [
    "c) samochód - droga + rzeka\n",
    "   "
   ]
  },
  {
   "cell_type": "code",
   "execution_count": 24,
   "metadata": {},
   "outputs": [
    {
     "data": {
      "text/plain": [
       "[('motorówka::noun', 0.7439929842948914),\n",
       " ('jezioro::noun', 0.7345262765884399),\n",
       " ('Łódź::noun', 0.7254728078842163),\n",
       " ('ne#Helensburgha::noun', 0.7246426343917847),\n",
       " ('ne#East_River::noun', 0.7199318408966064)]"
      ]
     },
     "execution_count": 24,
     "metadata": {},
     "output_type": "execute_result"
    }
   ],
   "source": [
    "model.most_similar([\"samochód::noun\", \"rzeka::noun\"], [\"droga::noun\"])[:5]"
   ]
  },
  {
   "cell_type": "markdown",
   "metadata": {},
   "source": [
    "5. Using the [t-SNE](http://scikit-learn.org/stable/modules/generated/sklearn.manifold.TSNE.html) \n",
    "   algorithm comput the projection of the random 1000 words with the following words highlighted\n",
    "   (assuming they are available):\n",
    "   \n",
    "a) szkoda\n",
    "  \n",
    "b) strata\n",
    "\n",
    "c) uszczerbek\n",
    "\n",
    "d) szkoda majątkowy\n",
    "\n",
    "e) uszczerbek na zdrowie\n",
    "\n",
    "f) krzywda\n",
    "   \n",
    "g) niesprawiedliwość\n",
    "   \n",
    "h) nieszczęście"
   ]
  },
  {
   "cell_type": "code",
   "execution_count": 38,
   "metadata": {},
   "outputs": [],
   "source": [
    "np.random.seed(0)\n",
    "\n",
    "selected_vecs = {\n",
    "    \"szkoda\": model[\"szkoda::noun\"],\n",
    "    \"strata\": model[\"strata::noun\"],\n",
    "    \"uszczerbek\": model[\"uszczerbek::noun\"],\n",
    "    \"szkoda majątkowa\": model[\"szkoda_majątkowa::noun\"],\n",
    "    \"uszczerbek na zdrowiu\": model[\"uszczerbek::noun\"] + model[\"na::prep\"] + model[\"zdrowie::noun\"],\n",
    "    \"krzywda\": model[\"krzywde::noun\"],\n",
    "    \"niesprawiedliwość\": model[\"niesprawiedliwość::noun\"],\n",
    "    \"nieszczęście\": model[\"nieszczęście::noun\"]\n",
    "}\n",
    "\n",
    "random_vecs = {\n",
    "    key: model[key]\n",
    "    for key in np.random.choice(list(model.vocab.keys()), 1000)\n",
    "}\n",
    "\n",
    "vecs = list(selected_vecs.items()) + list(random_vecs.items())"
   ]
  },
  {
   "cell_type": "code",
   "execution_count": 39,
   "metadata": {},
   "outputs": [],
   "source": [
    "vecs_transformed = TSNE(n_components=2).fit_transform([v[1] for v in vecs])"
   ]
  },
  {
   "cell_type": "code",
   "execution_count": 44,
   "metadata": {},
   "outputs": [
    {
     "data": {
      "text/plain": [
       "<matplotlib.collections.PathCollection at 0x7f878c6fd438>"
      ]
     },
     "execution_count": 44,
     "metadata": {},
     "output_type": "execute_result"
    },
    {
     "data": {
      "image/png": "[encoded data removed]",
      "text/plain": [
       "<Figure size 720x720 with 1 Axes>"
      ]
     },
     "metadata": {
      "needs_background": "light"
     },
     "output_type": "display_data"
    }
   ],
   "source": [
    "plt.figure(figsize=(10, 10))\n",
    "\n",
    "\n",
    "plt.scatter(vecs_transformed[:len(selected_vecs),0], vecs_transformed[:len(selected_vecs), 1])\n",
    "plt.scatter(vecs_transformed[len(selected_vecs):,0], vecs_transformed[len(selected_vecs):, 1])"
   ]
  },
  {
   "cell_type": "markdown",
   "metadata": {},
   "source": [
    "## Hints\n",
    "\n",
    "1. Read the classic articles:\n",
    "   * [Distributed Representations of Words and Phrases and their Compositionality](http://papers.nips.cc/paper/5021-distributed-representations-of-words-andphrases)\n",
    "   * [Efficient Estimation of Word Representations in Vector Space](https://arxiv.org/abs/1301.3781)\n",
    "1. The word2vec algorithm uses two variants:\n",
    "   1. CBOW - using the context words, the central word is predicted\n",
    "   1. skip-gram - using the central word, the context words are predicted\n",
    "1. The word2vec algorithm is pretty efficient. It can process a corpus containing 1 billion words in one day.\n",
    "1. The vectors provided by the algorithm reflect some of the semantic and syntactic features of the represented\n",
    "   words. E.e. the following equation should work in the vector space:\n",
    "   `w2v(\"król\") - w2v(\"mężczyzna\") + w2v(\"kobieta\") = w2v(\"królowa\")`"
   ]
  }
 ],
 "metadata": {
  "kernelspec": {
   "display_name": "Python (ml)",
   "language": "python",
   "name": "ml"
  },
  "language_info": {
   "codemirror_mode": {
    "name": "ipython",
    "version": 3
   },
   "file_extension": ".py",
   "mimetype": "text/x-python",
   "name": "python",
   "nbconvert_exporter": "python",
   "pygments_lexer": "ipython3",
   "version": "3.7.1"
  }
 },
 "nbformat": 4,
 "nbformat_minor": 2
}
