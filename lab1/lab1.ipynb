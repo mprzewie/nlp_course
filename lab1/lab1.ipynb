{
 "cells": [
  {
   "cell_type": "markdown",
   "metadata": {},
   "source": [
    "# Lab 1 - wyrażenia regularne\n",
    "\n",
    "Treść zadań dostępna [tutaj](README.md), a w oryginale na https://github.com/apohllo/pjn/blob/master/1-regexp.md\n",
    "\n",
    "**Wykonanie zadań**: Marcin Przewięźlikowski\n",
    "\n",
    "https://github.com/mprzewie/nlp_course"
   ]
  },
  {
   "cell_type": "code",
   "execution_count": null,
   "metadata": {},
   "outputs": [],
   "source": [
    "import numpy as np\n",
    "import matplotlib.pyplot as plt\n",
    "from pathlib import Path\n",
    "import json\n",
    "import regex \n",
    "from pprint import pprint"
   ]
  },
  {
   "cell_type": "markdown",
   "metadata": {},
   "source": [
    "# Regular expressions (aka regexps)\n",
    "\n",
    "## Task\n",
    "\n",
    "A dataset containing texts of Polish statutory law is available at [http://apohllo.pl/text/ustawy.tar.gz](http://apohllo.pl/text/ustawy.tar.gz)."
   ]
  },
  {
   "cell_type": "code",
   "execution_count": null,
   "metadata": {},
   "outputs": [],
   "source": [
    "DATA_DIR = Path(\"../data\")\n",
    "if not DATA_DIR.exists():\n",
    "    download_url = \"http://apohllo.pl/text/ustawy.tar.gz\" \n",
    "    !curl -O {download_url}\n",
    "    !mkdir {DATA_DIR}\n",
    "    !tar -xvzf ustawy.tar.gz -C {DATA_DIR}\n",
    "    !rm ustawy.tar.gz"
   ]
  },
  {
   "cell_type": "code",
   "execution_count": null,
   "metadata": {},
   "outputs": [],
   "source": [
    "files = [f for f in DATA_DIR.rglob(\"**/*\") if f.is_file()]\n",
    "len(files)"
   ]
  },
  {
   "cell_type": "markdown",
   "metadata": {},
   "source": [
    "It contains texts of Polish bills, e.g.:\n",
    "\n",
    "```\n",
    "Tekst ustawy przyjęty przez Senat bez poprawek\n",
    " \n",
    "USTAWA\n",
    "z\n",
    "dnia 8 listopada 2013 r.\n",
    " \n",
    "o\n",
    "zmianie niektórych ustaw w związku z realizacją ustawy budżetowej[1])\n",
    " \n",
    "Art.\n",
    "1. \n",
    "W\n",
    "ustawie z dnia 4 marca 1994 r. o zakładowym funduszu świadczeń socjalnych (Dz. U.\n",
    "z 2012 r. poz. 592, z późn. zm.[2]))\n",
    "po art. 5b dodaje się art. 5c w brzmieniu:\n",
    "„Art. 5c. W 2014 r. przez\n",
    "przeciętne wynagrodzenie miesięczne w gospodarce narodowej, o którym mowa w art.\n",
    "5 ust. 2, należy rozumieć przeciętne wynagrodzenie miesięczne w gospodarce narodowej\n",
    "w drugim półroczu 2010 r. ogłoszone przez Prezesa Głównego Urzędu Statystycznego\n",
    "na podstawie art. 5 ust. 7.”.\n",
    "```\n",
    "\n",
    "The task is to:"
   ]
  },
  {
   "cell_type": "markdown",
   "metadata": {},
   "source": [
    "Find all external references to bills, e.g. **ustawie z dnia \n",
    "   4 marca 1994 r. o zakładowym funduszu świadczeń socjalnych (Dz. U.  z 2012 r. poz. 592)**.\n",
    "   The result should be aggregated by bill ID (year and position) and sorted by descending number of reference\n",
    "   counts. The reference format should include:\n",
    "   * the title of the regulation (if present)\n",
    "   * the year of the regulation\n",
    "   * the number of the Journal of Laws of the Republic of Poland (*Dziennik Ustaw*) - if applicable\n",
    "   * the position of the regulation\n",
    "   "
   ]
  },
  {
   "cell_type": "code",
   "execution_count": null,
   "metadata": {},
   "outputs": [],
   "source": [
    "regexp1_1 = \"Dz[.]\\s*U[.]\" \\\n",
    "\"(((\\s*z\\s*\\d{4}\\s*r[.])?\\s*(Nr\\s*(\\d+),\\s*poz[.]\\s*(\\d+))\\s*(,|i|oraz)?)+)\" \\\n",
    "\n",
    "regexp1_2 = \"(z\\s*(\\d{4})\\s*r[.]\\s*((Nr\\s*\\d+\\s*,\\s*poz[.]\\s*\\d+\\s*(,|i)?\\s*)+))\"\n",
    "\n",
    "regexp1_3 = \"Nr\\s*(\\d+)\\s*,\\s*poz[.]\\s*(\\d+)\""
   ]
  },
  {
   "cell_type": "code",
   "execution_count": null,
   "metadata": {},
   "outputs": [],
   "source": [
    "def get_references(text):\n",
    "    result = []\n",
    "    journal_references = [jr[0] for jr in regex.findall(regexp1_1, text)]\n",
    "    for jr in journal_references:\n",
    "        years_refs = regex.findall(regexp1_2, jr)\n",
    "        for yr in years_refs:\n",
    "            year = yr[1]\n",
    "            refs = regex.findall(regexp1_3, yr[2])\n",
    "            result.extend([(year, *ref) for ref in refs])\n",
    "    return result"
   ]
  },
  {
   "cell_type": "code",
   "execution_count": null,
   "metadata": {},
   "outputs": [],
   "source": [
    "references = []\n",
    "\n",
    "for file in files:\n",
    "    year, nr =  regex.findall(\"(\\d{4})_(\\d+)\",str(file))[0]\n",
    "    with file.open() as f:\n",
    "        text = f.read()\n",
    "        text = regex.sub(\"Dz[.]\\s*U[.]\\s*Nr\", f\"Dz. U. z {year} r. Nr\", text)\n",
    "        references.extend(get_references(text))"
   ]
  },
  {
   "cell_type": "code",
   "execution_count": null,
   "metadata": {},
   "outputs": [],
   "source": [
    "refs_and_counts = [\n",
    "    (ref, references.count(ref))\n",
    "    for ref in set(references)\n",
    "]"
   ]
  },
  {
   "cell_type": "code",
   "execution_count": null,
   "metadata": {},
   "outputs": [],
   "source": [
    "sorted(refs_and_counts, key=lambda rc: -rc[1])"
   ]
  },
  {
   "cell_type": "code",
   "execution_count": null,
   "metadata": {},
   "outputs": [],
   "source": [
    "plt.hist([np.log2(rc[1]) for rc in refs_and_counts], bins=15)\n",
    "plt.title(\"Histogram of logarithms of numbers of references to a regulation\")\n",
    "plt.show()"
   ]
  },
  {
   "cell_type": "markdown",
   "metadata": {},
   "source": [
    "Find all internal references to regulations, e.g.  **art.  5 ust. 2**, **art. 5 ust. 7**, etc. The result should\n",
    "   exclude the internal numbering of the bill (e.g. **Art. 1.** W ustawie ...).\n",
    "   The result should be aggregated by regulation ID (as described below) and sorted by descending number of reference\n",
    "   counts inside particular bill. The bills should be sorted by descending number of internal references. \n",
    "   The reference format should include all elements necessary to identify the regulation, e.g.:\n",
    "   * art. 1, ust. 2 - if an article inside the regulation is referenced,\n",
    "   * ust. 2 - if a paragraph inside the same article is referenced,\n",
    "   * etc.\n",
    "   "
   ]
  },
  {
   "cell_type": "code",
   "execution_count": null,
   "metadata": {},
   "outputs": [],
   "source": [
    "sc1 = \"„\"\n",
    "sc2 = \"”\"\n",
    "regex_quotation = f\"{sc1}\\s*[^{sc1}]*{sc2}\""
   ]
  },
  {
   "cell_type": "code",
   "execution_count": null,
   "metadata": {},
   "outputs": [],
   "source": [
    "def prune_quotation(text):\n",
    "    regex_quotation = f\"{sc1}\\s*[^{sc1}]*{sc2}\"\n",
    "    while True:\n",
    "        new_text = regex.sub(regex_quotation, \"(...)\", text)\n",
    "        if new_text == text:\n",
    "            break\n",
    "        text = new_text\n",
    "    return text"
   ]
  },
  {
   "cell_type": "code",
   "execution_count": null,
   "metadata": {},
   "outputs": [],
   "source": [
    "regexp2_1 = \"brzmieni[e|u|a]:\\s*.\\s*[^”]*”\"\n",
    "regexp2_2 = \"(?<!brzmieni[e|u|a]:\\s*.\\s*)Art[.]\\s*(\\d+)\"\n",
    "regexp2_3 = \"art[.]\\s*(\\d+)\\s*,\\s*ust[.]\\s*(\\d+)\""
   ]
  },
  {
   "cell_type": "code",
   "execution_count": null,
   "metadata": {},
   "outputs": [],
   "source": [
    "def get_internal_references(text):\n",
    "    return regex.finditer(prune_strange_chars_regex, text)\n",
    "#     return text\n",
    "#     articles_matches = regex.finditer(regexp2_1, text)\n",
    "#     return articles_matches\n",
    "# #     print(articles_matches)\n",
    "# #     articles_matches = [\"0\"] + articles_matches\n",
    "# #     assert len(articles_matches) % 2 == 0\n",
    "# #     articles = [\n",
    "# #         (articles_matches[2*i], articles_matches[2*i + 1]) \n",
    "# #         for i in range(int(len(articles_matches)/ 3))\n",
    "# #     ]\n",
    "# #     for art_number, art_text in articles:\n",
    "# #         print(art_number)\n",
    "# # #         print(art_text)\n",
    "# # #         print(\"####\")"
   ]
  },
  {
   "cell_type": "code",
   "execution_count": null,
   "metadata": {},
   "outputs": [],
   "source": [
    "# for file in files[10:20]:\n",
    "file = files[15]\n",
    "with file.open() as f:\n",
    "        text = f.read()\n",
    "\n",
    "# print([text[r.start()-10:r.end()+10] for r in get_internal_references(text)][0])\n",
    "prune_quotation(text)"
   ]
  },
  {
   "cell_type": "code",
   "execution_count": null,
   "metadata": {},
   "outputs": [],
   "source": [
    "„"
   ]
  },
  {
   "cell_type": "code",
   "execution_count": null,
   "metadata": {},
   "outputs": [],
   "source": [
    "regex.findall(\"brzmienie:\\s*.\\s*\", text)"
   ]
  },
  {
   "cell_type": "code",
   "execution_count": null,
   "metadata": {},
   "outputs": [],
   "source": [
    "# regex.split(regexp1, xd)"
   ]
  },
  {
   "cell_type": "code",
   "execution_count": null,
   "metadata": {},
   "outputs": [],
   "source": [
    "text.split(\"Art\")[4]"
   ]
  },
  {
   "cell_type": "code",
   "execution_count": null,
   "metadata": {},
   "outputs": [],
   "source": [
    "exp = \"(A|a)rt[.]\\s*\\d+\\s*\"\n",
    "\n",
    "[text[m.start():m.end()+10] for m in regex.finditer(exp, text)]\n"
   ]
  },
  {
   "cell_type": "markdown",
   "metadata": {},
   "source": [
    "Count all occurrences of the word **ustawa** in all inflected forms (*ustawa*, *ustawie*, *ustawę*, etc.),\n",
    "   and all spelling forms (*ustawa*, *Ustawa*, *USTAWA*), excluding other words with the same prefix (e.g. *ustawić*)."
   ]
  },
  {
   "cell_type": "code",
   "execution_count": null,
   "metadata": {},
   "outputs": [],
   "source": [
    "regulation_regex = \"[\\b(U|u)]\\s*[S|s]\\s*[T|t]\\s*[A|a]\\s*[W|w]\\s*[(A|a|Y|y|(IE)|(ie)|Ę|ę|Ą|ą|O|o)\\b]\""
   ]
  },
  {
   "cell_type": "code",
   "execution_count": null,
   "metadata": {},
   "outputs": [],
   "source": [
    "num_regulations = 0\n",
    "\n",
    "for file in files:\n",
    "    with file.open() as f:\n",
    "        text = f.read()\n",
    "    num_regulations += len(regex.findall(regulation_regex, text))\n",
    "    \n",
    "num_regulations"
   ]
  },
  {
   "cell_type": "markdown",
   "metadata": {},
   "source": [
    "## Hints\n",
    "\n",
    "* Some programming languages allow to use Unicode classes in regular expressions, e.g.\n",
    "  * `\\p{L}` - letters from any alphabet (e.g. a, ą, ć, ü, カ)\n",
    "  * `\\p{Ll}` - small letters from any alphabet\n",
    "  * `\\p{Lu}` - capital letters from any alphabet\n",
    "* Not all regular expressions engines support Unicode classes, e.g. `re` from Python does not.\n",
    "  Yet you can use `regex` library (`pip install regex`), which has much more features.\n",
    "* Regular expressions can include positive and negative lookahead and lookbehind constructions, e.g.\n",
    "  * *positive lookahead* - `(\\w+)(?= has a cat)` will match string `Ann has a cat`, but it will match `Ann` only.\n",
    "  * *negative lookbehind* - `(?!<New )(York)`, will match `Yorkshire` but not `New York`.\n",
    "* `\\b` matches a word boarder. Regexp `fish` will match `jellyfish`, but `\\bfish\\b` will only match `fish`.\n",
    "  In the case of Python you should use either `'\\\\bfish\\\\b'` or `r'\\bfish\\b'`.\n",
    "* `\\b` is dependent on what is understood by \"word\". For instance in Ruby polish diacritics are not treated as parts of\n",
    "  a word, thus `\\bpsu\\b` will match both `psu` and `psuć`, since `ć` is a non-word letter in Ruby.\n",
    "* Some languages, e.g. Ruby, support regexp match operator as well as regexp literals (`=~`, /fish/ respectively \n",
    "  in the case of Ruby and Perl). Notably Python does not support either.\n",
    "* You should be very careful when copying regexps from Internet - different languages and even different versions of the\n",
    "  same language may interpret them differently, so make sure to always test them on a large set of diversified examples."
   ]
  },
  {
   "cell_type": "code",
   "execution_count": null,
   "metadata": {},
   "outputs": [],
   "source": []
  },
  {
   "cell_type": "code",
   "execution_count": null,
   "metadata": {},
   "outputs": [],
   "source": [
    "s = \"12-34-56-78-89-10111\"\n",
    "x = re.match(\"(\\d{1,2}-){2}(\\d{1,2}-){2}\", s)\n",
    "x.groups()"
   ]
  },
  {
   "cell_type": "code",
   "execution_count": null,
   "metadata": {},
   "outputs": [],
   "source": []
  }
 ],
 "metadata": {
  "kernelspec": {
   "display_name": "Python 3",
   "language": "python",
   "name": "python3"
  },
  "language_info": {
   "codemirror_mode": {
    "name": "ipython",
    "version": 3
   },
   "file_extension": ".py",
   "mimetype": "text/x-python",
   "name": "python",
   "nbconvert_exporter": "python",
   "pygments_lexer": "ipython3",
   "version": "3.7.2"
  }
 },
 "nbformat": 4,
 "nbformat_minor": 2
}
