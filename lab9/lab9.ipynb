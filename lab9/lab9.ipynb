{
 "cells": [
  {
   "cell_type": "markdown",
   "metadata": {},
   "source": [
    "# lab9 - Named entity recognition\n",
    "\n",
    "The exercise shows how we may extract elements such as names of companies, countries and similar objects from text."
   ]
  },
  {
   "cell_type": "code",
   "execution_count": 69,
   "metadata": {},
   "outputs": [],
   "source": [
    "import json\n",
    "import glob, os\n",
    "import time\n",
    "from pathlib import Path\n",
    "from urllib.request import urlopen, Request\n",
    "from tqdm import tqdm\n",
    "import numpy as np\n",
    "import xml.etree.ElementTree as ET\n",
    "from typing import List, Tuple, Iterator\n",
    "import pandas as pd\n",
    "import matplotlib.pyplot as plt\n",
    "from itertools import chain"
   ]
  },
  {
   "cell_type": "code",
   "execution_count": 2,
   "metadata": {},
   "outputs": [],
   "source": [
    "url=\"http://ws.clarin-pl.eu/nlprest2/base\" \n",
    "data_path = Path(\"../data/\")   \n",
    "out_path= Path(\"out\")\n",
    "if not out_path.exists():\n",
    "    out_path.mkdir()"
   ]
  },
  {
   "cell_type": "markdown",
   "metadata": {},
   "source": [
    "## Tasks"
   ]
  },
  {
   "cell_type": "markdown",
   "metadata": {},
   "source": [
    "1. Read the classification of [Named Entities](http://clarin-pl.eu/pliki/warsztaty/Wyklad3-inforex-liner2.pdf)."
   ]
  },
  {
   "cell_type": "markdown",
   "metadata": {},
   "source": [
    "2. Read the [API of NER](http://nlp.pwr.wroc.pl/redmine/projects/nlprest2/wiki) in [Clarin](http://ws.clarin-pl.eu/ner.shtml)."
   ]
  },
  {
   "cell_type": "code",
   "execution_count": 3,
   "metadata": {},
   "outputs": [],
   "source": [
    "def upload(file: Path):    \n",
    "    with file.open(\"rb\") as f:\n",
    "        doc = f.read()\n",
    "    return urlopen(Request(url+'/upload/',doc,{'Content-Type': 'binary/octet-stream'})).read().decode(\"utf-8\");"
   ]
  },
  {
   "cell_type": "code",
   "execution_count": 13,
   "metadata": {},
   "outputs": [],
   "source": [
    "def tool(lpmn: str): \n",
    "    data = dict(\n",
    "        lpmn=lpmn,\n",
    "        user=\"user@user.gmail.com\"\n",
    "    )\n",
    "    doc = json.dumps(data).encode(\"utf-8\")\n",
    "    taskid = urlopen(Request(url+'/startTask/',doc,{'Content-Type': 'application/json'})).read().decode(\"utf-8\");\n",
    "    time.sleep(0.1);\n",
    "    resp = urlopen(Request(url+'/getStatus/'+taskid));\n",
    "    data = json.load(resp)\n",
    "    while data[\"status\"] == \"QUEUE\" or data[\"status\"] == \"PROCESSING\" :\n",
    "        time.sleep(0.1);\n",
    "        resp = urlopen(Request(url+'/getStatus/'+taskid));\n",
    "        data = json.load(resp)\n",
    "    if data[\"status\"]==\"ERROR\":\n",
    "        print(data)\n",
    "        return None   \n",
    "    return data[\"value\"]"
   ]
  },
  {
   "cell_type": "code",
   "execution_count": 23,
   "metadata": {},
   "outputs": [],
   "source": [
    "def liner2(in_file: Path, out_file: Path):\n",
    "    data=upload(in_file)\n",
    "    data=tool('file('+data+')|any2txt|wcrft2|liner2({\\\"model\\\":\\\"all\\\"})')\n",
    "    if data is None:\n",
    "        print(\"couldn't process\", in_file)\n",
    "        return None\n",
    "    data=data[0][\"fileID\"];\n",
    "    content = urlopen(Request(url+'/download'+data)).read().decode(\"utf-8\");    \n",
    "    with out_file.open(\"w\") as outfile:\n",
    "        outfile.write(content)  "
   ]
  },
  {
   "cell_type": "markdown",
   "metadata": {},
   "source": [
    "3. Read the [documentation of CLL format](http://nlp.pwr.wroc.pl/redmine/projects/corpus2/wiki/CCL_format)."
   ]
  },
  {
   "cell_type": "markdown",
   "metadata": {},
   "source": [
    "4. Randomly select 100 bills."
   ]
  },
  {
   "cell_type": "code",
   "execution_count": 24,
   "metadata": {},
   "outputs": [],
   "source": [
    "data_files = data_path.glob(\"*.txt\")\n",
    "bills = np.random.choice(list(data_files), 100)"
   ]
  },
  {
   "cell_type": "markdown",
   "metadata": {},
   "source": [
    "5. Recognize the named entities in the documents using the `n82` model."
   ]
  },
  {
   "cell_type": "code",
   "execution_count": 34,
   "metadata": {},
   "outputs": [],
   "source": [
    "def pass_through_liner(bill: Path):\n",
    "    out_bill = (out_path / bill.name.replace(\"txt\", \"xml\"))\n",
    "    result = True\n",
    "    if not out_bill.exists():\n",
    "        try:\n",
    "            liner2(bill, out_bill)\n",
    "            result = True\n",
    "        except:\n",
    "            retult = False\n",
    "#     print(bill, result)\n",
    "    return result"
   ]
  },
  {
   "cell_type": "code",
   "execution_count": 36,
   "metadata": {},
   "outputs": [
    {
     "data": {
      "text/plain": [
       "True"
      ]
     },
     "execution_count": 36,
     "metadata": {},
     "output_type": "execute_result"
    },
    {
     "name": "stderr",
     "output_type": "stream",
     "text": [
      "Process ForkPoolWorker-39:\n",
      "Process ForkPoolWorker-35:\n",
      "Process ForkPoolWorker-40:\n",
      "Process ForkPoolWorker-36:\n",
      "Process ForkPoolWorker-37:\n",
      "Process ForkPoolWorker-38:\n",
      "Process ForkPoolWorker-33:\n",
      "Process ForkPoolWorker-34:\n",
      "Traceback (most recent call last):\n",
      "Traceback (most recent call last):\n",
      "Traceback (most recent call last):\n",
      "Traceback (most recent call last):\n",
      "Traceback (most recent call last):\n",
      "Traceback (most recent call last):\n",
      "  File \"/home/mprzewie/.anaconda3/lib/python3.7/multiprocessing/process.py\", line 297, in _bootstrap\n",
      "    self.run()\n",
      "  File \"/home/mprzewie/.anaconda3/lib/python3.7/multiprocessing/process.py\", line 297, in _bootstrap\n",
      "    self.run()\n",
      "Traceback (most recent call last):\n",
      "  File \"/home/mprzewie/.anaconda3/lib/python3.7/multiprocessing/process.py\", line 297, in _bootstrap\n",
      "    self.run()\n",
      "  File \"/home/mprzewie/.anaconda3/lib/python3.7/multiprocessing/process.py\", line 297, in _bootstrap\n",
      "    self.run()\n",
      "  File \"/home/mprzewie/.anaconda3/lib/python3.7/multiprocessing/process.py\", line 297, in _bootstrap\n",
      "    self.run()\n",
      "  File \"/home/mprzewie/.anaconda3/lib/python3.7/multiprocessing/process.py\", line 99, in run\n",
      "    self._target(*self._args, **self._kwargs)\n",
      "  File \"/home/mprzewie/.anaconda3/lib/python3.7/multiprocessing/process.py\", line 99, in run\n",
      "    self._target(*self._args, **self._kwargs)\n",
      "  File \"/home/mprzewie/.anaconda3/lib/python3.7/multiprocessing/process.py\", line 297, in _bootstrap\n",
      "    self.run()\n",
      "  File \"/home/mprzewie/.anaconda3/lib/python3.7/multiprocessing/process.py\", line 99, in run\n",
      "    self._target(*self._args, **self._kwargs)\n",
      "  File \"/home/mprzewie/.anaconda3/lib/python3.7/multiprocessing/process.py\", line 99, in run\n",
      "    self._target(*self._args, **self._kwargs)\n",
      "Traceback (most recent call last):\n",
      "  File \"/home/mprzewie/.anaconda3/lib/python3.7/multiprocessing/pool.py\", line 110, in worker\n",
      "    task = get()\n",
      "  File \"/home/mprzewie/.anaconda3/lib/python3.7/multiprocessing/process.py\", line 99, in run\n",
      "    self._target(*self._args, **self._kwargs)\n",
      "  File \"/home/mprzewie/.anaconda3/lib/python3.7/multiprocessing/process.py\", line 297, in _bootstrap\n",
      "    self.run()\n",
      "  File \"/home/mprzewie/.anaconda3/lib/python3.7/multiprocessing/process.py\", line 99, in run\n",
      "    self._target(*self._args, **self._kwargs)\n",
      "  File \"/home/mprzewie/.anaconda3/lib/python3.7/multiprocessing/pool.py\", line 110, in worker\n",
      "    task = get()\n",
      "  File \"/home/mprzewie/.anaconda3/lib/python3.7/multiprocessing/process.py\", line 297, in _bootstrap\n",
      "    self.run()\n",
      "  File \"/home/mprzewie/.anaconda3/lib/python3.7/multiprocessing/pool.py\", line 110, in worker\n",
      "    task = get()\n",
      "  File \"/home/mprzewie/.anaconda3/lib/python3.7/multiprocessing/pool.py\", line 110, in worker\n",
      "    task = get()\n",
      "  File \"/home/mprzewie/.anaconda3/lib/python3.7/multiprocessing/process.py\", line 99, in run\n",
      "    self._target(*self._args, **self._kwargs)\n",
      "  File \"/home/mprzewie/.anaconda3/lib/python3.7/multiprocessing/queues.py\", line 351, in get\n",
      "    with self._rlock:\n",
      "  File \"/home/mprzewie/.anaconda3/lib/python3.7/multiprocessing/queues.py\", line 351, in get\n",
      "    with self._rlock:\n",
      "  File \"/home/mprzewie/.anaconda3/lib/python3.7/multiprocessing/pool.py\", line 110, in worker\n",
      "    task = get()\n",
      "  File \"/home/mprzewie/.anaconda3/lib/python3.7/multiprocessing/process.py\", line 99, in run\n",
      "    self._target(*self._args, **self._kwargs)\n",
      "  File \"/home/mprzewie/.anaconda3/lib/python3.7/multiprocessing/synchronize.py\", line 95, in __enter__\n",
      "    return self._semlock.__enter__()\n",
      "  File \"/home/mprzewie/.anaconda3/lib/python3.7/multiprocessing/queues.py\", line 351, in get\n",
      "    with self._rlock:\n",
      "  File \"/home/mprzewie/.anaconda3/lib/python3.7/multiprocessing/pool.py\", line 110, in worker\n",
      "    task = get()\n",
      "  File \"/home/mprzewie/.anaconda3/lib/python3.7/multiprocessing/synchronize.py\", line 95, in __enter__\n",
      "    return self._semlock.__enter__()\n",
      "  File \"/home/mprzewie/.anaconda3/lib/python3.7/multiprocessing/pool.py\", line 110, in worker\n",
      "    task = get()\n",
      "  File \"/home/mprzewie/.anaconda3/lib/python3.7/multiprocessing/queues.py\", line 351, in get\n",
      "    with self._rlock:\n",
      "  File \"/home/mprzewie/.anaconda3/lib/python3.7/multiprocessing/queues.py\", line 351, in get\n",
      "    with self._rlock:\n",
      "  File \"/home/mprzewie/.anaconda3/lib/python3.7/multiprocessing/synchronize.py\", line 95, in __enter__\n",
      "    return self._semlock.__enter__()\n",
      "  File \"/home/mprzewie/.anaconda3/lib/python3.7/multiprocessing/synchronize.py\", line 95, in __enter__\n",
      "    return self._semlock.__enter__()\n",
      "KeyboardInterrupt\n",
      "KeyboardInterrupt\n",
      "  File \"/home/mprzewie/.anaconda3/lib/python3.7/multiprocessing/queues.py\", line 351, in get\n",
      "    with self._rlock:\n",
      "  File \"/home/mprzewie/.anaconda3/lib/python3.7/multiprocessing/synchronize.py\", line 95, in __enter__\n",
      "    return self._semlock.__enter__()\n",
      "KeyboardInterrupt\n",
      "  File \"/home/mprzewie/.anaconda3/lib/python3.7/multiprocessing/synchronize.py\", line 95, in __enter__\n",
      "    return self._semlock.__enter__()\n",
      "  File \"/home/mprzewie/.anaconda3/lib/python3.7/multiprocessing/pool.py\", line 110, in worker\n",
      "    task = get()\n",
      "KeyboardInterrupt\n",
      "  File \"/home/mprzewie/.anaconda3/lib/python3.7/multiprocessing/queues.py\", line 351, in get\n",
      "    with self._rlock:\n",
      "  File \"/home/mprzewie/.anaconda3/lib/python3.7/multiprocessing/queues.py\", line 352, in get\n",
      "    res = self._reader.recv_bytes()\n",
      "  File \"/home/mprzewie/.anaconda3/lib/python3.7/multiprocessing/synchronize.py\", line 95, in __enter__\n",
      "    return self._semlock.__enter__()\n",
      "KeyboardInterrupt\n",
      "KeyboardInterrupt\n",
      "KeyboardInterrupt\n",
      "  File \"/home/mprzewie/.anaconda3/lib/python3.7/multiprocessing/connection.py\", line 216, in recv_bytes\n",
      "    buf = self._recv_bytes(maxlength)\n",
      "  File \"/home/mprzewie/.anaconda3/lib/python3.7/multiprocessing/connection.py\", line 407, in _recv_bytes\n",
      "    buf = self._recv(4)\n",
      "  File \"/home/mprzewie/.anaconda3/lib/python3.7/multiprocessing/connection.py\", line 379, in _recv\n",
      "    chunk = read(handle, remaining)\n",
      "KeyboardInterrupt\n"
     ]
    }
   ],
   "source": [
    "import multiprocessing\n",
    "pool = multiprocessing.Pool()\n",
    "processed = pool.map(pass_through_liner, bills)\n",
    "all(processed)"
   ]
  },
  {
   "cell_type": "markdown",
   "metadata": {},
   "source": [
    "6. Plot the frequency of the recognized classes:"
   ]
  },
  {
   "cell_type": "code",
   "execution_count": 66,
   "metadata": {},
   "outputs": [
    {
     "data": {
      "text/plain": [
       "generator"
      ]
     },
     "execution_count": 66,
     "metadata": {},
     "output_type": "execute_result"
    }
   ],
   "source": [
    "def words_with_classes(xml: Path) -> Iterator[Tuple[str, List[str]]]:\n",
    "    root = ET.parse(xml).getroot()\n",
    "    for c in root:\n",
    "        for s in c:\n",
    "            for t in s:\n",
    "                if t.tag==\"tok\":\n",
    "                    yield (\n",
    "                        [e.text for e in t if e.tag==\"orth\"][0],\n",
    "                        [e.attrib[\"chan\"] for e in t if e.tag==\"ann\"]    \n",
    "                    )\n"
   ]
  },
  {
   "cell_type": "code",
   "execution_count": 93,
   "metadata": {},
   "outputs": [],
   "source": [
    "all_classes = chain.from_iterable([\n",
    "    \n",
    "    chain.from_iterable(\n",
    "        [(wwc[0], w) for w in wwc[1]]\n",
    "        for wwc in words_with_classes(xml)\n",
    "    )\n",
    "    for xml in out_path.glob(\"*.xml\")\n",
    "])\n",
    "\n",
    "df = pd.DataFrame(list(all_classes), columns=[\"entity\", \"class\"])"
   ]
  },
  {
   "cell_type": "markdown",
   "metadata": {},
   "source": [
    "   a) fine-grained classification histogram (classes such as `nam_fac_bridge`, `nam_liv_animal`)."
   ]
  },
  {
   "cell_type": "code",
   "execution_count": 119,
   "metadata": {},
   "outputs": [],
   "source": [
    "fine_grained = lambda x: x[\"class\"].startswith(\"nam_\") and len([c for c in x[\"class\"] if c==\"_\"])>=2"
   ]
  },
  {
   "cell_type": "code",
   "execution_count": 120,
   "metadata": {},
   "outputs": [
    {
     "data": {
      "text/plain": [
       "<matplotlib.axes._subplots.AxesSubplot at 0x7f85ec944fd0>"
      ]
     },
     "execution_count": 120,
     "metadata": {},
     "output_type": "execute_result"
    },
    {
     "data": {
      "image/png": "[encoded data removed]",
      "text/plain": [
       "<Figure size 432x288 with 1 Axes>"
      ]
     },
     "metadata": {
      "needs_background": "light"
     },
     "output_type": "display_data"
    }
   ],
   "source": [
    "fig, ax = plt.subplots()\n",
    "df[\n",
    "    df.apply(fine_grained, axis=1)\n",
    "][\"class\"].value_counts().plot(ax=ax, kind=\"bar\")"
   ]
  },
  {
   "cell_type": "markdown",
   "metadata": {},
   "source": [
    "   \n",
    "   b) coarse-grained classification histogram (classes such as `nam_adj`, `nam_eve`, `nam_fac`)."
   ]
  },
  {
   "cell_type": "code",
   "execution_count": 121,
   "metadata": {},
   "outputs": [],
   "source": [
    "coarse_grained = lambda x: x[\"class\"].startswith(\"nam_\") and len([c for c in x[\"class\"] if c==\"_\"])==1"
   ]
  },
  {
   "cell_type": "code",
   "execution_count": 122,
   "metadata": {},
   "outputs": [
    {
     "data": {
      "text/plain": [
       "<matplotlib.axes._subplots.AxesSubplot at 0x7f85ec81c748>"
      ]
     },
     "execution_count": 122,
     "metadata": {},
     "output_type": "execute_result"
    },
    {
     "data": {
      "image/png": "[encoded data removed]",
      "text/plain": [
       "<Figure size 432x288 with 1 Axes>"
      ]
     },
     "metadata": {
      "needs_background": "light"
     },
     "output_type": "display_data"
    }
   ],
   "source": [
    "fig, ax = plt.subplots()\n",
    "df[\n",
    "    df.apply(coarse_grained, axis=1)\n",
    "][\"class\"].value_counts().plot(ax=ax, kind=\"bar\")"
   ]
  },
  {
   "cell_type": "markdown",
   "metadata": {},
   "source": [
    "7. Display 50 most frequent Named Entities including their count and fine-grained type."
   ]
  },
  {
   "cell_type": "code",
   "execution_count": 138,
   "metadata": {},
   "outputs": [],
   "source": [
    "counts = {}\n",
    "\n",
    "for _, r in df.iterrows():\n",
    "    row = (r[\"entity\"], r[\"class\"])\n",
    "    counts[row] = counts.get(row, 0) + 1"
   ]
  },
  {
   "cell_type": "code",
   "execution_count": 154,
   "metadata": {},
   "outputs": [
    {
     "data": {
      "text/plain": [
       "[(('w', 'nam_org_institution'), 3231),\n",
       " (('i', 'nam_org_institution'), 1430),\n",
       " (('z', 'nam_pro_media_periodic'), 1315),\n",
       " (('o', 'nam_org_institution'), 1228),\n",
       " (('do', 'nam_org_institution'), 1052),\n",
       " (('z', 'nam_org_institution'), 1042),\n",
       " (('w', 'nam_pro_media_periodic'), 1030),\n",
       " (('r', 'nam_pro_media_periodic'), 1002),\n",
       " (('ust', 'nam_org_institution'), 949),\n",
       " (('w', 'nam_org_organization'), 935),\n",
       " (('art', 'nam_org_institution'), 853),\n",
       " (('w', 'nam_pro_title_document'), 842),\n",
       " (('Dz', 'nam_pro_media_periodic'), 826),\n",
       " (('w', 'nam_loc_gpe_country'), 814),\n",
       " (('na', 'nam_org_institution'), 776),\n",
       " (('font', 'nam_pro_title'), 775),\n",
       " (('margin', 'nam_pro_media_periodic'), 741),\n",
       " (('z', 'nam_pro_title_document'), 718),\n",
       " (('lub', 'nam_org_institution'), 704),\n",
       " (('U', 'nam_pro_media_periodic'), 697),\n",
       " (('się', 'nam_org_institution'), 631),\n",
       " (('o', 'nam_pro_media_periodic'), 602),\n",
       " (('oraz', 'nam_org_institution'), 573),\n",
       " (('na', 'nam_loc_gpe_country'), 544),\n",
       " (('margin', 'nam_pro_title'), 534),\n",
       " (('r', 'nam_pro_title_document'), 513),\n",
       " (('mowa', 'nam_org_institution'), 500),\n",
       " (('o', 'nam_pro_title_document'), 492),\n",
       " (('poz', 'nam_pro_media_periodic'), 486),\n",
       " (('font', 'nam_pro_model_car'), 461),\n",
       " (('i', 'nam_org_organization'), 446),\n",
       " (('przez', 'nam_org_institution'), 439),\n",
       " (('o', 'nam_org_organization'), 436),\n",
       " (('art', 'nam_pro_title_document'), 429),\n",
       " (('dnia', 'nam_pro_media_periodic'), 421),\n",
       " (('i', 'nam_pro_media_periodic'), 410),\n",
       " (('font', 'nam_pro_media_periodic'), 398),\n",
       " (('family', 'nam_pro_title'), 384),\n",
       " (('Nr', 'nam_pro_media_periodic'), 373),\n",
       " (('Polskiej', 'nam_loc_gpe_country'), 370),\n",
       " (('z', 'nam_org_organization'), 369),\n",
       " (('do', 'nam_org_organization'), 366),\n",
       " (('o', 'nam_loc_gpe_country'), 365),\n",
       " (('Rzeczypospolitej', 'nam_loc_gpe_country'), 363),\n",
       " (('lub', 'nam_org_organization'), 354),\n",
       " (('text', 'nam_pro_media_periodic'), 354),\n",
       " (('pkt', 'nam_org_institution'), 350),\n",
       " (('i', 'nam_loc_gpe_country'), 338),\n",
       " (('których', 'nam_org_institution'), 332),\n",
       " (('art', 'nam_pro_media_periodic'), 319)]"
      ]
     },
     "execution_count": 154,
     "metadata": {},
     "output_type": "execute_result"
    }
   ],
   "source": [
    "sorted(\n",
    "    [i for i in counts.items() if fine_grained({\"class\": i[0][1]}) and i[0][0].isalpha()],\n",
    "    key=lambda i: i[1],\n",
    "    reverse=True\n",
    ")[:50]"
   ]
  },
  {
   "cell_type": "markdown",
   "metadata": {},
   "source": [
    "8. Display 10 most frequent Named Entities for each coarse-grained type."
   ]
  },
  {
   "cell_type": "code",
   "execution_count": 155,
   "metadata": {},
   "outputs": [
    {
     "data": {
      "text/plain": [
       "[(('w', 'nam_org'), 4061),\n",
       " (('w', 'nam_pro'), 2325),\n",
       " (('i', 'nam_org'), 1762),\n",
       " (('z', 'nam_pro'), 1747),\n",
       " (('o', 'nam_org'), 1493),\n",
       " (('z', 'nam_org'), 1360),\n",
       " (('do', 'nam_org'), 1295),\n",
       " (('w', 'nam_loc'), 1183),\n",
       " (('r', 'nam_pro'), 1162),\n",
       " (('font', 'nam_pro'), 1127)]"
      ]
     },
     "execution_count": 155,
     "metadata": {},
     "output_type": "execute_result"
    }
   ],
   "source": [
    "sorted(\n",
    "    [i for i in counts.items() if coarse_grained({\"class\": i[0][1]}) and i[0][0].isalpha()],\n",
    "    key=lambda i: i[1],\n",
    "    reverse=True\n",
    ")[:10]"
   ]
  },
  {
   "cell_type": "markdown",
   "metadata": {},
   "source": [
    "9. Discuss the results of the extraction."
   ]
  },
  {
   "cell_type": "markdown",
   "metadata": {},
   "source": [
    "NER is dependent on context - e.g. tokens such as \"w\", \"z\" itd are tagged depending what phrase they are part of."
   ]
  },
  {
   "cell_type": "markdown",
   "metadata": {},
   "source": [
    "## Hints\n",
    "\n",
    "1. Named entity recognition is a process aimed at the identification of entities mentioned in text by determining their\n",
    "   scope and classifying them to a predefined type. The larger the number of types, the more difficult the problem is.\n",
    "1. Named entities are usually proper names and temporal expressions. They usually convey the most important information\n",
    "   in text.\n",
    "1. IOB format is typically used to tag names entities. The name (IOB) comes from the types of tokens (_in_, _out_, _beginning_).\n",
    "   The following example shows how the format works:\n",
    "   ```\n",
    "   W            O\n",
    "   1776         B-TIME\n",
    "   niemiecki    O\n",
    "   zoolog       O\n",
    "   Peter        B-PER\n",
    "   Simon        I-PER\n",
    "   Pallas       I-PER\n",
    "   dokonał      O\n",
    "   formalnego   O\n",
    "   ...\n",
    "   ```\n",
    "1. The set of classes used in NER is partially task dependant. Some general classes such as names of people or cities\n",
    "   are used universally, but categories such as references to law regulations is specific to legal information systems."
   ]
  }
 ],
 "metadata": {
  "kernelspec": {
   "display_name": "Python 3",
   "language": "python",
   "name": "python3"
  },
  "language_info": {
   "codemirror_mode": {
    "name": "ipython",
    "version": 3
   },
   "file_extension": ".py",
   "mimetype": "text/x-python",
   "name": "python",
   "nbconvert_exporter": "python",
   "pygments_lexer": "ipython3",
   "version": "3.7.1"
  }
 },
 "nbformat": 4,
 "nbformat_minor": 2
}
