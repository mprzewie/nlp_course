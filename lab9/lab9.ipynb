{
 "cells": [
  {
   "cell_type": "markdown",
   "metadata": {},
   "source": [
    "# lab9 - Named entity recognition\n",
    "\n",
    "The exercise shows how we may extract elements such as names of companies, countries and similar objects from text."
   ]
  },
  {
   "cell_type": "code",
   "execution_count": 1,
   "metadata": {},
   "outputs": [],
   "source": [
    "import json\n",
    "import glob, os\n",
    "import time\n",
    "from pathlib import Path\n",
    "from urllib.request import urlopen, Request\n",
    "from tqdm import tqdm\n",
    "import numpy as np\n",
    "import xml.etree.ElementTree as ET\n",
    "from typing import List, Tuple, Iterator\n",
    "import pandas as pd\n",
    "import matplotlib.pyplot as plt\n",
    "from itertools import chain"
   ]
  },
  {
   "cell_type": "code",
   "execution_count": 2,
   "metadata": {},
   "outputs": [],
   "source": [
    "url=\"http://ws.clarin-pl.eu/nlprest2/base\" \n",
    "data_path = Path(\"../data/\")   \n",
    "out_path= Path(\"out\")\n",
    "if not out_path.exists():\n",
    "    out_path.mkdir()"
   ]
  },
  {
   "cell_type": "markdown",
   "metadata": {},
   "source": [
    "## Tasks"
   ]
  },
  {
   "cell_type": "markdown",
   "metadata": {},
   "source": [
    "1. Read the classification of [Named Entities](http://clarin-pl.eu/pliki/warsztaty/Wyklad3-inforex-liner2.pdf)."
   ]
  },
  {
   "cell_type": "markdown",
   "metadata": {},
   "source": [
    "2. Read the [API of NER](http://nlp.pwr.wroc.pl/redmine/projects/nlprest2/wiki) in [Clarin](http://ws.clarin-pl.eu/ner.shtml)."
   ]
  },
  {
   "cell_type": "code",
   "execution_count": 3,
   "metadata": {},
   "outputs": [],
   "source": [
    "def upload(file: Path):    \n",
    "    with file.open(\"rb\") as f:\n",
    "        doc = f.read()\n",
    "    return urlopen(Request(url+'/upload/',doc,{'Content-Type': 'binary/octet-stream'})).read().decode(\"utf-8\");"
   ]
  },
  {
   "cell_type": "code",
   "execution_count": 4,
   "metadata": {},
   "outputs": [],
   "source": [
    "def tool(lpmn: str): \n",
    "    data = dict(\n",
    "        lpmn=lpmn,\n",
    "        user=\"user@user.gmail.com\"\n",
    "    )\n",
    "    doc = json.dumps(data).encode(\"utf-8\")\n",
    "    taskid = urlopen(Request(url+'/startTask/',doc,{'Content-Type': 'application/json'})).read().decode(\"utf-8\");\n",
    "    time.sleep(0.1);\n",
    "    resp = urlopen(Request(url+'/getStatus/'+taskid));\n",
    "    data = json.load(resp)\n",
    "    while data[\"status\"] == \"QUEUE\" or data[\"status\"] == \"PROCESSING\" :\n",
    "        time.sleep(0.1);\n",
    "        resp = urlopen(Request(url+'/getStatus/'+taskid));\n",
    "        data = json.load(resp)\n",
    "    if data[\"status\"]==\"ERROR\":\n",
    "        print(data)\n",
    "        return None   \n",
    "    return data[\"value\"]"
   ]
  },
  {
   "cell_type": "code",
   "execution_count": 5,
   "metadata": {},
   "outputs": [],
   "source": [
    "def liner2(in_file: Path, out_file: Path):\n",
    "    data=upload(in_file)\n",
    "    data=tool('file('+data+')|any2txt|wcrft2|liner2({\\\"model\\\":\\\"all\\\"})')\n",
    "    if data is None:\n",
    "        print(\"couldn't process\", in_file)\n",
    "        return None\n",
    "    data=data[0][\"fileID\"];\n",
    "    content = urlopen(Request(url+'/download'+data)).read().decode(\"utf-8\");    \n",
    "    with out_file.open(\"w\") as outfile:\n",
    "        outfile.write(content)  "
   ]
  },
  {
   "cell_type": "markdown",
   "metadata": {},
   "source": [
    "3. Read the [documentation of CLL format](http://nlp.pwr.wroc.pl/redmine/projects/corpus2/wiki/CCL_format)."
   ]
  },
  {
   "cell_type": "markdown",
   "metadata": {},
   "source": [
    "4. Randomly select 100 bills."
   ]
  },
  {
   "cell_type": "code",
   "execution_count": 24,
   "metadata": {},
   "outputs": [],
   "source": [
    "data_files = data_path.glob(\"*.txt\")\n",
    "bills = np.random.choice(list(data_files), 100)"
   ]
  },
  {
   "cell_type": "markdown",
   "metadata": {},
   "source": [
    "5. Recognize the named entities in the documents using the `n82` model."
   ]
  },
  {
   "cell_type": "code",
   "execution_count": 34,
   "metadata": {},
   "outputs": [],
   "source": [
    "def pass_through_liner(bill: Path):\n",
    "    out_bill = (out_path / bill.name.replace(\"txt\", \"xml\"))\n",
    "    result = True\n",
    "    if not out_bill.exists():\n",
    "        try:\n",
    "            liner2(bill, out_bill)\n",
    "            result = True\n",
    "        except:\n",
    "            retult = False\n",
    "#     print(bill, result)\n",
    "    return result"
   ]
  },
  {
   "cell_type": "code",
   "execution_count": 36,
   "metadata": {},
   "outputs": [
    {
     "data": {
      "text/plain": [
       "True"
      ]
     },
     "execution_count": 36,
     "metadata": {},
     "output_type": "execute_result"
    },
    {
     "name": "stderr",
     "output_type": "stream",
     "text": [
      "Process ForkPoolWorker-39:\n",
      "Process ForkPoolWorker-35:\n",
      "Process ForkPoolWorker-40:\n",
      "Process ForkPoolWorker-36:\n",
      "Process ForkPoolWorker-37:\n",
      "Process ForkPoolWorker-38:\n",
      "Process ForkPoolWorker-33:\n",
      "Process ForkPoolWorker-34:\n",
      "Traceback (most recent call last):\n",
      "Traceback (most recent call last):\n",
      "Traceback (most recent call last):\n",
      "Traceback (most recent call last):\n",
      "Traceback (most recent call last):\n",
      "Traceback (most recent call last):\n",
      "  File \"/home/mprzewie/.anaconda3/lib/python3.7/multiprocessing/process.py\", line 297, in _bootstrap\n",
      "    self.run()\n",
      "  File \"/home/mprzewie/.anaconda3/lib/python3.7/multiprocessing/process.py\", line 297, in _bootstrap\n",
      "    self.run()\n",
      "Traceback (most recent call last):\n",
      "  File \"/home/mprzewie/.anaconda3/lib/python3.7/multiprocessing/process.py\", line 297, in _bootstrap\n",
      "    self.run()\n",
      "  File \"/home/mprzewie/.anaconda3/lib/python3.7/multiprocessing/process.py\", line 297, in _bootstrap\n",
      "    self.run()\n",
      "  File \"/home/mprzewie/.anaconda3/lib/python3.7/multiprocessing/process.py\", line 297, in _bootstrap\n",
      "    self.run()\n",
      "  File \"/home/mprzewie/.anaconda3/lib/python3.7/multiprocessing/process.py\", line 99, in run\n",
      "    self._target(*self._args, **self._kwargs)\n",
      "  File \"/home/mprzewie/.anaconda3/lib/python3.7/multiprocessing/process.py\", line 99, in run\n",
      "    self._target(*self._args, **self._kwargs)\n",
      "  File \"/home/mprzewie/.anaconda3/lib/python3.7/multiprocessing/process.py\", line 297, in _bootstrap\n",
      "    self.run()\n",
      "  File \"/home/mprzewie/.anaconda3/lib/python3.7/multiprocessing/process.py\", line 99, in run\n",
      "    self._target(*self._args, **self._kwargs)\n",
      "  File \"/home/mprzewie/.anaconda3/lib/python3.7/multiprocessing/process.py\", line 99, in run\n",
      "    self._target(*self._args, **self._kwargs)\n",
      "Traceback (most recent call last):\n",
      "  File \"/home/mprzewie/.anaconda3/lib/python3.7/multiprocessing/pool.py\", line 110, in worker\n",
      "    task = get()\n",
      "  File \"/home/mprzewie/.anaconda3/lib/python3.7/multiprocessing/process.py\", line 99, in run\n",
      "    self._target(*self._args, **self._kwargs)\n",
      "  File \"/home/mprzewie/.anaconda3/lib/python3.7/multiprocessing/process.py\", line 297, in _bootstrap\n",
      "    self.run()\n",
      "  File \"/home/mprzewie/.anaconda3/lib/python3.7/multiprocessing/process.py\", line 99, in run\n",
      "    self._target(*self._args, **self._kwargs)\n",
      "  File \"/home/mprzewie/.anaconda3/lib/python3.7/multiprocessing/pool.py\", line 110, in worker\n",
      "    task = get()\n",
      "  File \"/home/mprzewie/.anaconda3/lib/python3.7/multiprocessing/process.py\", line 297, in _bootstrap\n",
      "    self.run()\n",
      "  File \"/home/mprzewie/.anaconda3/lib/python3.7/multiprocessing/pool.py\", line 110, in worker\n",
      "    task = get()\n",
      "  File \"/home/mprzewie/.anaconda3/lib/python3.7/multiprocessing/pool.py\", line 110, in worker\n",
      "    task = get()\n",
      "  File \"/home/mprzewie/.anaconda3/lib/python3.7/multiprocessing/process.py\", line 99, in run\n",
      "    self._target(*self._args, **self._kwargs)\n",
      "  File \"/home/mprzewie/.anaconda3/lib/python3.7/multiprocessing/queues.py\", line 351, in get\n",
      "    with self._rlock:\n",
      "  File \"/home/mprzewie/.anaconda3/lib/python3.7/multiprocessing/queues.py\", line 351, in get\n",
      "    with self._rlock:\n",
      "  File \"/home/mprzewie/.anaconda3/lib/python3.7/multiprocessing/pool.py\", line 110, in worker\n",
      "    task = get()\n",
      "  File \"/home/mprzewie/.anaconda3/lib/python3.7/multiprocessing/process.py\", line 99, in run\n",
      "    self._target(*self._args, **self._kwargs)\n",
      "  File \"/home/mprzewie/.anaconda3/lib/python3.7/multiprocessing/synchronize.py\", line 95, in __enter__\n",
      "    return self._semlock.__enter__()\n",
      "  File \"/home/mprzewie/.anaconda3/lib/python3.7/multiprocessing/queues.py\", line 351, in get\n",
      "    with self._rlock:\n",
      "  File \"/home/mprzewie/.anaconda3/lib/python3.7/multiprocessing/pool.py\", line 110, in worker\n",
      "    task = get()\n",
      "  File \"/home/mprzewie/.anaconda3/lib/python3.7/multiprocessing/synchronize.py\", line 95, in __enter__\n",
      "    return self._semlock.__enter__()\n",
      "  File \"/home/mprzewie/.anaconda3/lib/python3.7/multiprocessing/pool.py\", line 110, in worker\n",
      "    task = get()\n",
      "  File \"/home/mprzewie/.anaconda3/lib/python3.7/multiprocessing/queues.py\", line 351, in get\n",
      "    with self._rlock:\n",
      "  File \"/home/mprzewie/.anaconda3/lib/python3.7/multiprocessing/queues.py\", line 351, in get\n",
      "    with self._rlock:\n",
      "  File \"/home/mprzewie/.anaconda3/lib/python3.7/multiprocessing/synchronize.py\", line 95, in __enter__\n",
      "    return self._semlock.__enter__()\n",
      "  File \"/home/mprzewie/.anaconda3/lib/python3.7/multiprocessing/synchronize.py\", line 95, in __enter__\n",
      "    return self._semlock.__enter__()\n",
      "KeyboardInterrupt\n",
      "KeyboardInterrupt\n",
      "  File \"/home/mprzewie/.anaconda3/lib/python3.7/multiprocessing/queues.py\", line 351, in get\n",
      "    with self._rlock:\n",
      "  File \"/home/mprzewie/.anaconda3/lib/python3.7/multiprocessing/synchronize.py\", line 95, in __enter__\n",
      "    return self._semlock.__enter__()\n",
      "KeyboardInterrupt\n",
      "  File \"/home/mprzewie/.anaconda3/lib/python3.7/multiprocessing/synchronize.py\", line 95, in __enter__\n",
      "    return self._semlock.__enter__()\n",
      "  File \"/home/mprzewie/.anaconda3/lib/python3.7/multiprocessing/pool.py\", line 110, in worker\n",
      "    task = get()\n",
      "KeyboardInterrupt\n",
      "  File \"/home/mprzewie/.anaconda3/lib/python3.7/multiprocessing/queues.py\", line 351, in get\n",
      "    with self._rlock:\n",
      "  File \"/home/mprzewie/.anaconda3/lib/python3.7/multiprocessing/queues.py\", line 352, in get\n",
      "    res = self._reader.recv_bytes()\n",
      "  File \"/home/mprzewie/.anaconda3/lib/python3.7/multiprocessing/synchronize.py\", line 95, in __enter__\n",
      "    return self._semlock.__enter__()\n",
      "KeyboardInterrupt\n",
      "KeyboardInterrupt\n",
      "KeyboardInterrupt\n",
      "  File \"/home/mprzewie/.anaconda3/lib/python3.7/multiprocessing/connection.py\", line 216, in recv_bytes\n",
      "    buf = self._recv_bytes(maxlength)\n",
      "  File \"/home/mprzewie/.anaconda3/lib/python3.7/multiprocessing/connection.py\", line 407, in _recv_bytes\n",
      "    buf = self._recv(4)\n",
      "  File \"/home/mprzewie/.anaconda3/lib/python3.7/multiprocessing/connection.py\", line 379, in _recv\n",
      "    chunk = read(handle, remaining)\n",
      "KeyboardInterrupt\n"
     ]
    }
   ],
   "source": [
    "import multiprocessing\n",
    "pool = multiprocessing.Pool()\n",
    "processed = pool.map(pass_through_liner, bills)\n",
    "all(processed)"
   ]
  },
  {
   "cell_type": "markdown",
   "metadata": {},
   "source": [
    "6. Plot the frequency of the recognized classes:"
   ]
  },
  {
   "cell_type": "code",
   "execution_count": 14,
   "metadata": {},
   "outputs": [],
   "source": [
    "def words_with_classes(xml: Path) -> Iterator[Tuple[str, str]]:\n",
    "    root = ET.parse(xml).getroot()\n",
    "    for c in root:\n",
    "        for s in c:\n",
    "            entities = dict()\n",
    "            for t in s:\n",
    "                if t.tag==\"tok\":\n",
    "                    token = [e.text for e in t if e.tag==\"orth\"][0]\n",
    "                    for e in t:\n",
    "                        if e.tag==\"ann\" and e.text !=\"0\":\n",
    "                            entities[\n",
    "                                (e.attrib[\"chan\"], e.text)\n",
    "                            ] = entities.get((e.attrib[\"chan\"], e.text), []) + [token]\n",
    "            for ((tag, _), l) in entities.items():\n",
    "                yield (\" \".join(l), tag)\n",
    "                    \n"
   ]
  },
  {
   "cell_type": "code",
   "execution_count": 37,
   "metadata": {},
   "outputs": [],
   "source": [
    "all_classes = chain.from_iterable([\n",
    "    words_with_classes(xml)\n",
    "    for xml in list(out_path.glob(\"*.xml\"))\n",
    "])\n",
    "\n",
    "df = pd.DataFrame(list(all_classes), columns=[\"entity\", \"class\"])"
   ]
  },
  {
   "cell_type": "markdown",
   "metadata": {},
   "source": [
    "   a) fine-grained classification histogram (classes such as `nam_fac_bridge`, `nam_liv_animal`)."
   ]
  },
  {
   "cell_type": "code",
   "execution_count": 38,
   "metadata": {},
   "outputs": [],
   "source": [
    "fine_grained = lambda x: x[\"class\"].startswith(\"nam_\") and len([c for c in x[\"class\"] if c==\"_\"])>=2"
   ]
  },
  {
   "cell_type": "code",
   "execution_count": 39,
   "metadata": {},
   "outputs": [
    {
     "data": {
      "text/plain": [
       "<matplotlib.axes._subplots.AxesSubplot at 0x7fafcb58beb8>"
      ]
     },
     "execution_count": 39,
     "metadata": {},
     "output_type": "execute_result"
    },
    {
     "data": {
      "image/png": "[encoded data removed]",
      "text/plain": [
       "<Figure size 432x288 with 1 Axes>"
      ]
     },
     "metadata": {
      "needs_background": "light"
     },
     "output_type": "display_data"
    }
   ],
   "source": [
    "fig, ax = plt.subplots()\n",
    "df[\n",
    "    df.apply(fine_grained, axis=1)\n",
    "][\"class\"].value_counts().plot(ax=ax, kind=\"bar\")"
   ]
  },
  {
   "cell_type": "markdown",
   "metadata": {},
   "source": [
    "   \n",
    "   b) coarse-grained classification histogram (classes such as `nam_adj`, `nam_eve`, `nam_fac`)."
   ]
  },
  {
   "cell_type": "code",
   "execution_count": 40,
   "metadata": {},
   "outputs": [],
   "source": [
    "coarse_grained = lambda x: x[\"class\"].startswith(\"nam_\") and len([c for c in x[\"class\"] if c==\"_\"])==1"
   ]
  },
  {
   "cell_type": "code",
   "execution_count": 41,
   "metadata": {},
   "outputs": [
    {
     "data": {
      "text/plain": [
       "<matplotlib.axes._subplots.AxesSubplot at 0x7fafcb522c88>"
      ]
     },
     "execution_count": 41,
     "metadata": {},
     "output_type": "execute_result"
    },
    {
     "data": {
      "image/png": "[encoded data removed]",
      "text/plain": [
       "<Figure size 432x288 with 1 Axes>"
      ]
     },
     "metadata": {
      "needs_background": "light"
     },
     "output_type": "display_data"
    }
   ],
   "source": [
    "fig, ax = plt.subplots()\n",
    "df[\n",
    "    df.apply(coarse_grained, axis=1)\n",
    "][\"class\"].value_counts().plot(ax=ax, kind=\"bar\")"
   ]
  },
  {
   "cell_type": "markdown",
   "metadata": {},
   "source": [
    "7. Display 50 most frequent Named Entities including their count and fine-grained type."
   ]
  },
  {
   "cell_type": "code",
   "execution_count": 42,
   "metadata": {},
   "outputs": [],
   "source": [
    "counts = {}\n",
    "\n",
    "for _, r in df.iterrows():\n",
    "    row = (r[\"entity\"], r[\"class\"])\n",
    "    counts[row] = counts.get(row, 0) + 1"
   ]
  },
  {
   "cell_type": "code",
   "execution_count": 43,
   "metadata": {},
   "outputs": [
    {
     "data": {
      "text/plain": [
       "[(('Dz . U .', 'nam_pro_media_periodic'), 693),\n",
       " (('Rzeczypospolitej Polskiej', 'nam_loc_gpe_country'), 353),\n",
       " (('Times', 'nam_pro_media_periodic'), 205),\n",
       " (('Unii Europejskiej', 'nam_org_organization'), 129),\n",
       " (('Dz . Urz', 'nam_pro_media_periodic'), 128),\n",
       " (('Times New Roman', 'nam_pro_title'), 88),\n",
       " (('Rada Ministrów', 'nam_org_institution'), 71),\n",
       " (('EFTA', 'nam_org_organization'), 71),\n",
       " (('Europejskiego Porozumienia o Wolnym Handlu', 'nam_org_company'), 70),\n",
       " (('URE', 'nam_org_organization'), 63),\n",
       " (('Minister Gospodarki', 'nam_org_institution'), 59),\n",
       " (('Znak', 'nam_pro_title'), 58),\n",
       " (('zł', 'nam_oth_currency'), 56),\n",
       " (('Skarbu Państwa', 'nam_org_institution'), 52),\n",
       " (('Minister Sprawiedliwości', 'nam_org_institution'), 52),\n",
       " (('Skarb Państwa', 'nam_org_institution'), 47),\n",
       " (('Komisja Nadzoru Bankowego', 'nam_org_institution'), 44),\n",
       " (('Komisji Nadzoru Bankowego', 'nam_org_institution'), 38),\n",
       " (('Prezesa Urzędu', 'nam_org_institution'), 33),\n",
       " (('EURO', 'nam_oth_currency'), 32),\n",
       " (('Prezes Urzędu', 'nam_org_institution'), 32),\n",
       " (('ITS', 'nam_oth_other'), 31),\n",
       " (('złotych', 'nam_oth_currency'), 28),\n",
       " (('Europejskim Obszarze Gospodarczym', 'nam_org_company'), 28),\n",
       " (('Komisję Nadzoru Bankowego', 'nam_org_institution'), 25),\n",
       " (('Rzeczpospolitą Polską', 'nam_loc_gpe_country'), 23),\n",
       " (('Prezesa Narodowego Banku Polskiego', 'nam_org_institution'), 23),\n",
       " (('Prezes Rady Ministrów', 'nam_org_institution'), 22),\n",
       " (('Rzeczpospolita Polska', 'nam_loc_gpe_country'), 21),\n",
       " (('Kodeksu handlowego', 'nam_pro_title_document'), 21),\n",
       " (('Ministrem Finansów', 'nam_org_institution'), 20),\n",
       " (('Urzędu Ochrony Państwa', 'nam_org_institution'), 20),\n",
       " (('Minister Finansów', 'nam_org_institution'), 20),\n",
       " (('EWG', 'nam_org_organization'), 20),\n",
       " (('Banku Gospodarki Żywnościowej', 'nam_org_institution'), 20),\n",
       " (('Kodeksu postępowania karnego', 'nam_pro_title_document'), 20),\n",
       " (('Monitor Polski', 'nam_pro_title'), 19),\n",
       " (('polski', 'nam_adj_country'), 19),\n",
       " (('Gospodarki', 'nam_liv_person'), 19),\n",
       " (('Nawóz', 'nam_loc_gpe_city'), 19),\n",
       " (('Komisji Europejskiej', 'nam_org_institution'), 18),\n",
       " (('Ministrowi Sprawiedliwości', 'nam_org_institution'), 18),\n",
       " (('Krajowej Izby Biegłych Rewidentów', 'nam_org_institution'), 18),\n",
       " (('Narodowy Bank Polski', 'nam_org_organization'), 17),\n",
       " (('Kodeksu cywilnego', 'nam_pro_title_document'), 17),\n",
       " (('WE', 'nam_org_organization'), 17),\n",
       " (('Wspólnoty Europejskiej', 'nam_org_organization'), 17),\n",
       " (('Kodeksu karnego skarbowego', 'nam_pro_title_document'), 16),\n",
       " (('Prezesa Rady Ministrów', 'nam_org_institution'), 16),\n",
       " (('BGŻ SA', 'nam_org_company'), 16)]"
      ]
     },
     "execution_count": 43,
     "metadata": {},
     "output_type": "execute_result"
    }
   ],
   "source": [
    "sorted(\n",
    "    [i for i in counts.items() if fine_grained({\"class\": i[0][1]})],\n",
    "    key=lambda i: i[1],\n",
    "    reverse=True\n",
    ")[:50]"
   ]
  },
  {
   "cell_type": "markdown",
   "metadata": {},
   "source": [
    "8. Display 10 most frequent Named Entities for each coarse-grained type."
   ]
  },
  {
   "cell_type": "code",
   "execution_count": 50,
   "metadata": {},
   "outputs": [
    {
     "data": {
      "text/plain": [
       "{'nam_liv': [('Gospodarki', 22),\n",
       "  ('2', 13),\n",
       "  ('Rzecznika', 9),\n",
       "  ('Azot', 6),\n",
       "  ('Art', 5),\n",
       "  ('3', 5),\n",
       "  ('Ewa Kopacz', 4),\n",
       "  ('Marek Kuchciński', 4),\n",
       "  ('Europejskim Obszarze Gospodarczym', 4),\n",
       "  ('Prezesa', 4)],\n",
       " 'nam_eve': [('Maksymalnego Limitu Pozostałości', 3),\n",
       "  ('Adobe Fangsong Std R', 2),\n",
       "  ('Adobe Myungjo Std M', 2),\n",
       "  ('Malgun Gothic', 2),\n",
       "  ('Zwykły tekst Znak', 2),\n",
       "  ('Monitor Polski', 2),\n",
       "  ('Maksymalnych Limitów Pozostałości', 2),\n",
       "  ('XXV Jubileuszowej Sesji Rady INTERSPUTNIK', 2),\n",
       "  ('Lucida Sans Unicode', 1),\n",
       "  ('Adobe Caslon Pro', 1)],\n",
       " 'nam_org': [('TIR', 148),\n",
       "  ('Unii Europejskiej', 121),\n",
       "  ('UE L', 75),\n",
       "  ('Rada Ministrów', 71),\n",
       "  ('EFTA', 71),\n",
       "  ('Europejskiego Porozumienia o Wolnym Handlu', 70),\n",
       "  ('URE', 61),\n",
       "  ('Minister Sprawiedliwości', 55),\n",
       "  ('Skarbu Państwa', 51),\n",
       "  ('Skarb Państwa', 47)],\n",
       " 'nam_fac': [('Krajowego Systemu Informatycznego', 4),\n",
       "  ('Kasie Chorych', 3),\n",
       "  ('Dobrej Praktyki Wytwarzania', 2),\n",
       "  ('Zabytkowej Kopalni Węgla Kamiennego „ Guido', 1),\n",
       "  ('Kopalnia Węgla Kamiennego „ Guido', 1),\n",
       "  ('Kopalnia Węgla Kamiennego', 1),\n",
       "  ('Sądzie Rejonowym w', 1),\n",
       "  ('Sądu lub Rzecznika', 1),\n",
       "  ('Azotan', 1),\n",
       "  ('Azo', 1)],\n",
       " 'nam_pro': [('Dz . U .', 646),\n",
       "  ('Times', 206),\n",
       "  ('Dz . Urz', 128),\n",
       "  ('Times New Roman', 90),\n",
       "  ('Znak', 60),\n",
       "  ('Z _ TIR', 60),\n",
       "  ('Kodeksu postępowania karnego', 30),\n",
       "  ('Dz . U . z 2004', 29),\n",
       "  ('Z _ LIT', 27),\n",
       "  ('Kodeksu karnego skarbowego', 26)],\n",
       " 'nam_oth': [('zł', 55),\n",
       "  ('EURO', 33),\n",
       "  ('złotych', 26),\n",
       "  ('ECU', 16),\n",
       "  ('Dz.Urz', 8),\n",
       "  ('euro', 5),\n",
       "  ('+ - - - - - - - + - - - - - - - - - - - - - + - - - - - - - - - - - - - - - - - - - - - - - - - - - - - - - - - - - - - - +',\n",
       "   4),\n",
       "  ('Prezes URE', 2),\n",
       "  ('NIP', 2),\n",
       "  ('+ - - - - - - - + - - - - - - - - - - - - - + - - - - - - - - - - - - - - - - - - - - - - - - - - - - - - - - - - - - - +',\n",
       "   2)],\n",
       " 'nam_adj': [('polskiego', 24),\n",
       "  ('polski', 21),\n",
       "  ('polskiej', 6),\n",
       "  ('autorskim', 6),\n",
       "  ('europejskiej', 6),\n",
       "  ('polskim', 4),\n",
       "  ('polskich', 4),\n",
       "  ('europejskie', 4),\n",
       "  ('polska', 3),\n",
       "  ('polscy', 2)],\n",
       " 'nam_loc': [('Rzeczypospolitej Polskiej', 332),\n",
       "  ('Nawóz', 29),\n",
       "  ('Rzeczpospolitą Polską', 23),\n",
       "  ('Rzeczpospolita Polska', 21),\n",
       "  ('Mn', 13),\n",
       "  ('Rejestru', 12),\n",
       "  ('Wyrobów Medycznych', 12),\n",
       "  ('Nawozy', 10),\n",
       "  ('Mo', 10),\n",
       "  ('Polski', 9)]}"
      ]
     },
     "execution_count": 50,
     "metadata": {},
     "output_type": "execute_result"
    }
   ],
   "source": [
    "{\n",
    "    cgt: sorted(\n",
    "        [(e, counts[(e,t)]) for (e,t) in counts.keys() if t==cgt],\n",
    "        key=lambda e: e[1],\n",
    "        reverse=True\n",
    "    )[:10]\n",
    "    for cgt in set(t for (e, t) in counts.keys() if coarse_grained({\"class\": t}))\n",
    "}"
   ]
  },
  {
   "cell_type": "markdown",
   "metadata": {},
   "source": [
    "9. Discuss the results of the extraction."
   ]
  },
  {
   "cell_type": "markdown",
   "metadata": {},
   "source": [
    "Not a bad classifier, but leaves much to be desired."
   ]
  },
  {
   "cell_type": "markdown",
   "metadata": {},
   "source": [
    "## Hints\n",
    "\n",
    "1. Named entity recognition is a process aimed at the identification of entities mentioned in text by determining their\n",
    "   scope and classifying them to a predefined type. The larger the number of types, the more difficult the problem is.\n",
    "1. Named entities are usually proper names and temporal expressions. They usually convey the most important information\n",
    "   in text.\n",
    "1. IOB format is typically used to tag names entities. The name (IOB) comes from the types of tokens (_in_, _out_, _beginning_).\n",
    "   The following example shows how the format works:\n",
    "   ```\n",
    "   W            O\n",
    "   1776         B-TIME\n",
    "   niemiecki    O\n",
    "   zoolog       O\n",
    "   Peter        B-PER\n",
    "   Simon        I-PER\n",
    "   Pallas       I-PER\n",
    "   dokonał      O\n",
    "   formalnego   O\n",
    "   ...\n",
    "   ```\n",
    "1. The set of classes used in NER is partially task dependant. Some general classes such as names of people or cities\n",
    "   are used universally, but categories such as references to law regulations is specific to legal information systems."
   ]
  }
 ],
 "metadata": {
  "kernelspec": {
   "display_name": "Python 3",
   "language": "python",
   "name": "python3"
  },
  "language_info": {
   "codemirror_mode": {
    "name": "ipython",
    "version": 3
   },
   "file_extension": ".py",
   "mimetype": "text/x-python",
   "name": "python",
   "nbconvert_exporter": "python",
   "pygments_lexer": "ipython3",
   "version": "3.7.1"
  }
 },
 "nbformat": 4,
 "nbformat_minor": 2
}
