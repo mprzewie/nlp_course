{
 "cells": [
  {
   "cell_type": "markdown",
   "metadata": {},
   "source": [
    "# lab4 - Multiword expressions identification and extraction\n",
    "\n",
    "The task shows two simple methods useful for identifying multiword expressions (MWE) in corpora."
   ]
  },
  {
   "cell_type": "code",
   "execution_count": 1,
   "metadata": {},
   "outputs": [],
   "source": [
    "import numpy as np\n",
    "from pathlib import Path\n",
    "import string\n",
    "from typing import Tuple, Dict\n",
    "from elasticsearch import Elasticsearch\n",
    "from tqdm import tqdm\n",
    "import matplotlib.pyplot as plt"
   ]
  },
  {
   "cell_type": "markdown",
   "metadata": {},
   "source": [
    "## Tasks"
   ]
  },
  {
   "cell_type": "markdown",
   "metadata": {},
   "source": [
    "1. Compute **bigram** counts in the corpora, ignoring bigrams which contain at least one token that is not a word\n",
    "   (it contains characters other than letters). The text has to be properly normalized before the counts are computed:\n",
    "   it should be downcased and all punctuation should be removed. Given the sentence: \"The quick borwn fox jumps over the\n",
    "   lazy dog\", the bigram counts are as follows:\n",
    "   1. \"the quick\": 1\n",
    "   1. \"quick brown\": 1\n",
    "   1. \"brown fox\": 1\n",
    "   1. etc.\n",
    "   "
   ]
  },
  {
   "cell_type": "code",
   "execution_count": 2,
   "metadata": {},
   "outputs": [],
   "source": [
    "es = Elasticsearch()\n",
    "def lemmatize(word: str) -> str:\n",
    "    analysis = es.indices.analyze(\n",
    "        \"przewie\",\n",
    "        {\n",
    "            \"tokenizer\": \"standard\",\n",
    "             \"filter\": [\"kodeks_synonym\", \"lowercase\", \"morfologik_stem\"],\n",
    "            \"text\": word\n",
    "        }\n",
    "    )\n",
    "    return analysis[\"tokens\"][0][\"token\"]\n",
    "    "
   ]
  },
  {
   "cell_type": "code",
   "execution_count": 3,
   "metadata": {},
   "outputs": [],
   "source": [
    "def get_bigrams(text: str):\n",
    "    text = text.lower().translate(str.maketrans('', '', string.punctuation))\n",
    "    words = text.split()\n",
    "    return [\n",
    "        ngram\n",
    "        for ngram in zip(words[:-1], words[1:]) \n",
    "        if all(w.isalpha() for w in ngram)\n",
    "    ]"
   ]
  },
  {
   "cell_type": "code",
   "execution_count": 4,
   "metadata": {},
   "outputs": [
    {
     "name": "stderr",
     "output_type": "stream",
     "text": [
      "1180it [00:17, 66.78it/s]\n"
     ]
    }
   ],
   "source": [
    "bigrams = {}\n",
    "\n",
    "for file in tqdm(Path(\"../data/\").glob(\"*.txt\")):\n",
    "    with file.open() as f:\n",
    "        text = f.read()\n",
    "    bgrams = get_bigrams(text)\n",
    "    for bg in bgrams:\n",
    "        bigrams[bg] = bigrams.get(bg, 0) + 1\n",
    "bigrams;"
   ]
  },
  {
   "cell_type": "code",
   "execution_count": null,
   "metadata": {},
   "outputs": [
    {
     "name": "stderr",
     "output_type": "stream",
     "text": [
      " 29%|██▉       | 185086/640189 [09:08<28:23, 267.17it/s]"
     ]
    }
   ],
   "source": [
    "lem_cache = {}\n",
    "bigrams_non_lemmatized = bigrams\n",
    "bigrams_lemmatized = {}\n",
    "\n",
    "for bgram, count in tqdm(bigrams_non_lemmatized.items()):\n",
    "    for w in bgram:\n",
    "        lem_cache[w] = lem_cache.get(w, lemmatize(w))\n",
    "    lem_bgram = tuple(lem_cache[w] for w in bgram)\n",
    "    bigrams_lemmatized[lem_bgram] = bigrams_lemmatized.get(lem_bgram, 0) + count "
   ]
  },
  {
   "cell_type": "code",
   "execution_count": 17,
   "metadata": {},
   "outputs": [],
   "source": [
    "bigrams = bigrams_lemmatized\n",
    "\n",
    "words = {}\n",
    "\n",
    "for ngram, cnt in bigrams.items():\n",
    "    for w in ngram:\n",
    "        words[w] = words.get(w, 0) + cnt"
   ]
  },
  {
   "cell_type": "markdown",
   "metadata": {},
   "source": [
    "2. Use [pointwise mutual information](https://en.wikipedia.org/wiki/Pointwise_mutual_information) to compute the measure \n",
    "   for all pairs of words. \n",
    "   "
   ]
  },
  {
   "cell_type": "code",
   "execution_count": 18,
   "metadata": {},
   "outputs": [],
   "source": [
    "def pmi(ngram: Tuple[str, ...], ngrams: Dict[Tuple[str, ...], int], words: Dict[str, int]):\n",
    "    return np.log((ngrams[ngram] * (len(words) ** len(ngram))) / (np.prod([words[w] for w in ngram]) * ngrams[ngram]))"
   ]
  },
  {
   "cell_type": "code",
   "execution_count": 19,
   "metadata": {},
   "outputs": [],
   "source": [
    "bgrams_pmis = {\n",
    "    ngram: pmi(ngram, bigrams, words)\n",
    "    for ngram in bigrams\n",
    "}"
   ]
  },
  {
   "cell_type": "markdown",
   "metadata": {},
   "source": [
    "3. Sort the word pairs according to that measure in the descending order and display 30 top results."
   ]
  },
  {
   "cell_type": "code",
   "execution_count": 20,
   "metadata": {},
   "outputs": [
    {
     "data": {
      "text/plain": [
       "[(('bordetella', 'pertussis'), 19.83596399737316),\n",
       " (('campylobacter', 'jejuni'), 19.83596399737316),\n",
       " (('corynebacterium', 'diphtheriae'), 19.83596399737316),\n",
       " (('coxiella', 'burneti'), 19.83596399737316),\n",
       " (('francisella', 'tularensis'), 19.83596399737316),\n",
       " (('helicobacter', 'pylori'), 19.83596399737316),\n",
       " (('legionella', 'pneumophila'), 19.83596399737316),\n",
       " (('listeria', 'monocytogenes'), 19.83596399737316),\n",
       " (('toxoplasma', 'gondii'), 19.83596399737316),\n",
       " (('vibrio', 'cholerae'), 19.83596399737316),\n",
       " (('zołzy', 'strangles'), 19.83596399737316),\n",
       " (('waroza', 'varroosis'), 19.83596399737316),\n",
       " (('argyreia', 'nervosa'), 19.83596399737316),\n",
       " (('dekstromoramid', 'palfium'), 19.83596399737316),\n",
       " (('pirolidyna', 'lewotenacylomorfan'), 19.83596399737316),\n",
       " (('mppp', 'propionian'), 19.83596399737316),\n",
       " (('butylomorfolina', 'racemorfan'), 19.83596399737316),\n",
       " (('brolamfetamina', 'dob'), 19.83596399737316),\n",
       " (('netylomda', 'mdea'), 19.83596399737316),\n",
       " (('etycyklidyna', 'pce'), 19.83596399737316),\n",
       " (('psylocybina', 'diwodorofosforan'), 19.83596399737316),\n",
       " (('tenamfetamina', 'mda'), 19.83596399737316),\n",
       " (('tenocyklidyna', 'tcp'), 19.83596399737316),\n",
       " (('benzol', 'benzen'), 19.83596399737316),\n",
       " (('toluol', 'toluen'), 19.83596399737316),\n",
       " (('tornister', 'nieskórzany'), 19.83596399737316),\n",
       " (('reduktor', 'membranowy'), 19.83596399737316),\n",
       " (('paź', 'dziernika'), 19.83596399737316),\n",
       " (('izocyjanian', 'tiocyjaniany'), 19.83596399737316),\n",
       " (('nm', 'nanometr'), 19.83596399737316)]"
      ]
     },
     "execution_count": 20,
     "metadata": {},
     "output_type": "execute_result"
    }
   ],
   "source": [
    "sorted(bgrams_pmis.items(), key=lambda it: it[1])[-30:]"
   ]
  },
  {
   "cell_type": "markdown",
   "metadata": {},
   "source": [
    "4. Use [log likelihood ratio](http://tdunning.blogspot.com/2008/03/surprise-and-coincidence.html) (LLR) to compute the measure for all pairs of words."
   ]
  },
  {
   "cell_type": "code",
   "execution_count": 21,
   "metadata": {},
   "outputs": [],
   "source": [
    "def H(k: np.ndarray):\n",
    "    N = k.sum()\n",
    "    return (\n",
    "        (k / N) * np.log(k / N + 1e-7)\n",
    "    ).sum()\n",
    "\n",
    "def LLR(k: np.ndarray):\n",
    "    return (2 * k.sum()) * (\n",
    "        H(k) - \n",
    "        H(k.sum(axis=0)) - \n",
    "        H(k.sum(axis=1))\n",
    "    )"
   ]
  },
  {
   "cell_type": "code",
   "execution_count": 22,
   "metadata": {},
   "outputs": [],
   "source": [
    "all_ngrams = np.sum(list(bigrams.values()))\n",
    "\n",
    "def incidence(bigram: Tuple[str, str], ngrams: Dict[Tuple[str, str], int], words: Dict[str, int]) -> np.ndarray:\n",
    "    w1, w2 = bigram\n",
    "    w1_w2 = ngrams.get((w1, w2), 0) + ngrams.get((w2, w1), 0)\n",
    "    w1_not_w2 = words[w1] - w1_w2\n",
    "    w2_not_w1 = words[w2] - w1_w2\n",
    "    not_w1_not_w2 = all_ngrams - w1_not_w2 - w1_not_w2 - w1_w2\n",
    "    return np.array([\n",
    "        [w1_w2, w1_not_w2],\n",
    "        [w2_not_w1, not_w1_not_w2]\n",
    "    ])"
   ]
  },
  {
   "cell_type": "code",
   "execution_count": 23,
   "metadata": {},
   "outputs": [],
   "source": [
    "bgrams_llrs = {\n",
    "    ngram: LLR(incidence(ngram, bigrams, words))\n",
    "    for ngram in bigrams\n",
    "}"
   ]
  },
  {
   "cell_type": "markdown",
   "metadata": {},
   "source": [
    "5. Sort the word pairs according to that measure in the descending order and display 30 top results."
   ]
  },
  {
   "cell_type": "code",
   "execution_count": 24,
   "metadata": {},
   "outputs": [
    {
     "data": {
      "text/plain": [
       "[(('który', 'mowa'), 127655.40755779158),\n",
       " (('rok', 'numer'), 116966.1608559136),\n",
       " (('otrzymywać', 'brzmienie'), 98492.87630740176),\n",
       " (('w', 'w'), 93226.9629069246),\n",
       " (('który', 'o'), 76453.93116680977),\n",
       " (('o', 'który'), 75413.05010340967),\n",
       " (('mowa', 'w'), 56900.23849597701),\n",
       " (('artykuł', 'w'), 54975.43246118754),\n",
       " (('w', 'usta'), 54682.84690696392),\n",
       " (('w', 'mowa'), 47158.037762626955),\n",
       " (('w', 'artykuł'), 44970.31859297557),\n",
       " (('dodawać', 'się'), 44842.17020953167),\n",
       " (('minister', 'właściwy'), 44240.38882282183),\n",
       " (('właściwy', 'minister'), 44208.11556208072),\n",
       " (('się', 'dodawać'), 44008.17732058322),\n",
       " (('w', 'z'), 38182.57269139614),\n",
       " (('od', 'dzień'), 35969.86660991811),\n",
       " (('dzień', 'od'), 35905.660817134456),\n",
       " (('droga', 'rozporządzenie'), 35870.459722368025),\n",
       " (('w', 'o'), 34807.366777988296),\n",
       " (('rzeczpospolita', 'polski'), 33449.24891476344),\n",
       " (('polski', 'rzeczpospolita'), 33426.24342250982),\n",
       " (('z', 'w'), 32759.667551757277),\n",
       " (('w', 'do'), 31347.709514677845),\n",
       " (('o', 'w'), 29603.015442872387),\n",
       " (('w', 'i'), 28687.183862005495),\n",
       " (('dzień', 'z'), 27988.144046915964),\n",
       " (('stosować', 'się'), 27891.127103850267),\n",
       " (('się', 'stosować'), 27258.134158711895),\n",
       " (('w', 'na'), 26887.246438993894)]"
      ]
     },
     "execution_count": 24,
     "metadata": {},
     "output_type": "execute_result"
    }
   ],
   "source": [
    "sorted(bgrams_llrs.items(), key=lambda it: it[1])[-30:][::-1]"
   ]
  },
  {
   "cell_type": "code",
   "execution_count": 25,
   "metadata": {},
   "outputs": [
    {
     "data": {
      "text/plain": [
       "38.653898383236346"
      ]
     },
     "execution_count": 25,
     "metadata": {},
     "output_type": "execute_result"
    }
   ],
   "source": [
    "np.mean(list(bgrams_llrs.values()))"
   ]
  },
  {
   "cell_type": "code",
   "execution_count": 26,
   "metadata": {},
   "outputs": [
    {
     "name": "stderr",
     "output_type": "stream",
     "text": [
      "/home/mprzewie/.anaconda3/envs/ml/lib/python3.7/site-packages/ipykernel_launcher.py:1: RuntimeWarning: invalid value encountered in log10\n",
      "  \"\"\"Entry point for launching an IPython kernel.\n"
     ]
    },
    {
     "data": {
      "image/png": "[encoded data removed]",
      "text/plain": [
       "<Figure size 432x288 with 1 Axes>"
      ]
     },
     "metadata": {
      "needs_background": "light"
     },
     "output_type": "display_data"
    }
   ],
   "source": [
    "plt.hist(np.log10(list(bgrams_llrs.values())), bins=100)\n",
    "plt.show()"
   ]
  },
  {
   "cell_type": "code",
   "execution_count": 29,
   "metadata": {},
   "outputs": [
    {
     "data": {
      "text/plain": [
       "[(('tekst', 'ustawa'), 1080.3841803183445),\n",
       " (('przekazać', 'do'), 49.513085377699426),\n",
       " (('senat', 'zgodnie'), 78.52376330644368),\n",
       " (('zgodnie', 'z'), 9587.177018007249),\n",
       " (('z', 'artykuł'), 2929.5649062202356),\n",
       " (('regulamin', 'sejm'), 189.50052442735438),\n",
       " (('ustawa', 'z'), 15871.824974745477),\n",
       " (('z', 'dzień'), 26628.965035025678),\n",
       " (('rok', 'o'), 10952.604088016227),\n",
       " (('o', 'zmiana'), 1411.6456769333402),\n",
       " (('zmiana', 'ustawa'), 1848.5462588417122),\n",
       " (('ustawa', 'o'), 396.1449813747711),\n",
       " (('niektóry', 'emeryt'), 42.14453770827742),\n",
       " (('emeryt', 'rencista'), 353.87352322960174),\n",
       " (('rencista', 'i'), 119.38133402562629),\n",
       " (('i', 'osoba'), 1096.341813739303),\n",
       " (('osoba', 'pobierać'), 221.79628068305604),\n",
       " (('pobierać', 'świadczenie'), 130.65783933265737),\n",
       " (('świadczenie', 'przedemerytalny'), 1095.9965207901705),\n",
       " (('zasiłek', 'przedemerytalny'), 1030.7735920323034)]"
      ]
     },
     "execution_count": 29,
     "metadata": {},
     "output_type": "execute_result"
    }
   ],
   "source": [
    "[(k,v) for (k, v) in bgrams_llrs.items() if v > 40][:20]"
   ]
  },
  {
   "cell_type": "markdown",
   "metadata": {},
   "source": [
    "6. Answer the following questions:\n",
    "   \n",
    "### Which measure works better for the problem?\n",
    "\n",
    "LLR, as it takes into account not only how often this combination of words occurs together as opposed to those words separately and how often it occurs as opposed to other combinations.\n",
    "\n",
    "### What would be needed, besides good measure, to build a dictionary of multiword expressions?\n",
    "\n",
    "A lot of computational power and memory. Also, a good lemmatizer.\n",
    "\n",
    "### Can you identify a certain threshold which clearly divides the *good* expressions from the *bad*?\n",
    "\n",
    "I'd go for the mean LLR, which is about 30."
   ]
  },
  {
   "cell_type": "markdown",
   "metadata": {},
   "source": [
    "## Hints\n",
    "\n",
    "1. An n-gram is a sequence containing n words. A unigram is a sequence containing one word,\n",
    "   a bigram is a sequence containing two words, etc.\n",
    "1. Pointwise mutual information is used to identify correlated events. It's based on the assumption that the events\n",
    "   follow normal distribution and that there is a minimal number of occurrences of the words. These assumptions hold\n",
    "   only for a subset of words.\n",
    "1. Log likelihood ratio test doesn't have these assumption. This makes it better suited for the task.\n",
    "1. There is [LLR implementation](https://github.com/tdunning/python-llr) in Python, implemented by Ted Dunning - the\n",
    "   author of the important work [Accurate Methods for the Statistics of Surprise and\n",
    "   Coincidence](https://aclweb.org/anthology/J93-1003) which introduces LLR to NLP.\n",
    "1. The methods presented in this exercise can be also used for the identification of words belonging to a given domain\n",
    "   (e.g. law, biology, medicine).\n",
    "1. [SRI LM](http://www.speech.sri.com/projects/srilm/) is useful for computing the counts of n-grams.\n",
    "1. ElasticSearch has a [shingle token filter](https://www.elastic.co/guide/en/elasticsearch/reference/current/analysis-shingle-tokenfilter.html) \n",
    "   which can be used to build the n-grams as well.\n",
    "1. More sophisticated algorithms for multiword expressions identification, such as \n",
    "   [AutoPhrase](https://github.com/shangjingbo1226/AutoPhrase) take into account more features including:\n",
    "   morphosyntactic tags, expression contexts, etc. and use data from e.g. Wikipedia, to automatically identify\n",
    "   high-quality multiword expressions and use them to train MWE classifiers.\n",
    "1. BTW \"multiword expressions\" is a mutliword expression itself ;-)"
   ]
  }
 ],
 "metadata": {
  "kernelspec": {
   "display_name": "Python (ml)",
   "language": "python",
   "name": "ml"
  },
  "language_info": {
   "codemirror_mode": {
    "name": "ipython",
    "version": 3
   },
   "file_extension": ".py",
   "mimetype": "text/x-python",
   "name": "python",
   "nbconvert_exporter": "python",
   "pygments_lexer": "ipython3",
   "version": "3.7.1"
  }
 },
 "nbformat": 4,
 "nbformat_minor": 2
}
