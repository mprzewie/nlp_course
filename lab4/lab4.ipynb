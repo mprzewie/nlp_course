{
 "cells": [
  {
   "cell_type": "markdown",
   "metadata": {},
   "source": [
    "# lab4 - Multiword expressions identification and extraction\n",
    "\n",
    "The task shows two simple methods useful for identifying multiword expressions (MWE) in corpora."
   ]
  },
  {
   "cell_type": "code",
   "execution_count": 1,
   "metadata": {},
   "outputs": [],
   "source": [
    "import numpy as np\n",
    "from pathlib import Path\n",
    "import string\n",
    "from typing import Tuple, Dict\n",
    "from elasticsearch import Elasticsearch\n",
    "from tqdm import tqdm\n",
    "import matplotlib.pyplot as plt"
   ]
  },
  {
   "cell_type": "markdown",
   "metadata": {},
   "source": [
    "## Tasks"
   ]
  },
  {
   "cell_type": "markdown",
   "metadata": {},
   "source": [
    "1. Compute **bigram** counts in the corpora, ignoring bigrams which contain at least one token that is not a word\n",
    "   (it contains characters other than letters). The text has to be properly normalized before the counts are computed:\n",
    "   it should be downcased and all punctuation should be removed. Given the sentence: \"The quick borwn fox jumps over the\n",
    "   lazy dog\", the bigram counts are as follows:\n",
    "   1. \"the quick\": 1\n",
    "   1. \"quick brown\": 1\n",
    "   1. \"brown fox\": 1\n",
    "   1. etc.\n",
    "   "
   ]
  },
  {
   "cell_type": "code",
   "execution_count": 2,
   "metadata": {},
   "outputs": [],
   "source": [
    "es = Elasticsearch()\n",
    "def lemmatize(word: str) -> str:\n",
    "    analysis = es.indices.analyze(\n",
    "        \"przewie\",\n",
    "        {\n",
    "            \"tokenizer\": \"standard\",\n",
    "             \"filter\": [\"kodeks_synonym\", \"lowercase\", \"morfologik_stem\"],\n",
    "            \"text\": word\n",
    "        }\n",
    "    )\n",
    "    return analysis[\"tokens\"][0][\"token\"]\n",
    "    "
   ]
  },
  {
   "cell_type": "code",
   "execution_count": 3,
   "metadata": {},
   "outputs": [],
   "source": [
    "def get_bigrams(text: str):\n",
    "    text = text.lower().translate(str.maketrans('', '', string.punctuation))\n",
    "    words = text.split()\n",
    "    return [\n",
    "        ngram\n",
    "        for ngram in zip(words[:-1], words[1:]) \n",
    "        if all(w.isalpha() for w in ngram)\n",
    "    ]"
   ]
  },
  {
   "cell_type": "code",
   "execution_count": 4,
   "metadata": {},
   "outputs": [
    {
     "name": "stderr",
     "output_type": "stream",
     "text": [
      "1180it [00:23, 50.03it/s]\n"
     ]
    }
   ],
   "source": [
    "bigrams = {}\n",
    "\n",
    "for file in tqdm(Path(\"../data/\").glob(\"*.txt\")):\n",
    "    with file.open() as f:\n",
    "        text = f.read()\n",
    "    bgrams = get_bigrams(text)\n",
    "    for bg in bgrams:\n",
    "        bigrams[bg] = bigrams.get(bg, 0) + 1\n",
    "bigrams;"
   ]
  },
  {
   "cell_type": "code",
   "execution_count": 5,
   "metadata": {},
   "outputs": [
    {
     "name": "stderr",
     "output_type": "stream",
     "text": [
      "  2%|▏         | 14788/640189 [00:36<22:40, 459.55it/s]"
     ]
    },
    {
     "ename": "KeyboardInterrupt",
     "evalue": "",
     "output_type": "error",
     "traceback": [
      "\u001b[0;31m---------------------------------------------------------------------------\u001b[0m",
      "\u001b[0;31mKeyboardInterrupt\u001b[0m                         Traceback (most recent call last)",
      "\u001b[0;32m<ipython-input-5-cb2daa62b93f>\u001b[0m in \u001b[0;36m<module>\u001b[0;34m\u001b[0m\n\u001b[1;32m      5\u001b[0m \u001b[0;32mfor\u001b[0m \u001b[0mbgram\u001b[0m\u001b[0;34m,\u001b[0m \u001b[0mcount\u001b[0m \u001b[0;32min\u001b[0m \u001b[0mtqdm\u001b[0m\u001b[0;34m(\u001b[0m\u001b[0mbigrams_non_lemmatized\u001b[0m\u001b[0;34m.\u001b[0m\u001b[0mitems\u001b[0m\u001b[0;34m(\u001b[0m\u001b[0;34m)\u001b[0m\u001b[0;34m)\u001b[0m\u001b[0;34m:\u001b[0m\u001b[0;34m\u001b[0m\u001b[0;34m\u001b[0m\u001b[0m\n\u001b[1;32m      6\u001b[0m     \u001b[0;32mfor\u001b[0m \u001b[0mw\u001b[0m \u001b[0;32min\u001b[0m \u001b[0mbgram\u001b[0m\u001b[0;34m:\u001b[0m\u001b[0;34m\u001b[0m\u001b[0;34m\u001b[0m\u001b[0m\n\u001b[0;32m----> 7\u001b[0;31m         \u001b[0mlem_cache\u001b[0m\u001b[0;34m[\u001b[0m\u001b[0mw\u001b[0m\u001b[0;34m]\u001b[0m \u001b[0;34m=\u001b[0m \u001b[0mlem_cache\u001b[0m\u001b[0;34m.\u001b[0m\u001b[0mget\u001b[0m\u001b[0;34m(\u001b[0m\u001b[0mw\u001b[0m\u001b[0;34m,\u001b[0m \u001b[0mlemmatize\u001b[0m\u001b[0;34m(\u001b[0m\u001b[0mw\u001b[0m\u001b[0;34m)\u001b[0m\u001b[0;34m)\u001b[0m\u001b[0;34m\u001b[0m\u001b[0;34m\u001b[0m\u001b[0m\n\u001b[0m\u001b[1;32m      8\u001b[0m     \u001b[0mlem_bgram\u001b[0m \u001b[0;34m=\u001b[0m \u001b[0mtuple\u001b[0m\u001b[0;34m(\u001b[0m\u001b[0mlem_cache\u001b[0m\u001b[0;34m[\u001b[0m\u001b[0mw\u001b[0m\u001b[0;34m]\u001b[0m \u001b[0;32mfor\u001b[0m \u001b[0mw\u001b[0m \u001b[0;32min\u001b[0m \u001b[0mbgram\u001b[0m\u001b[0;34m)\u001b[0m\u001b[0;34m\u001b[0m\u001b[0;34m\u001b[0m\u001b[0m\n\u001b[1;32m      9\u001b[0m     \u001b[0mbigrams_lemmatized\u001b[0m\u001b[0;34m[\u001b[0m\u001b[0mlem_bgram\u001b[0m\u001b[0;34m]\u001b[0m \u001b[0;34m=\u001b[0m \u001b[0mbigrams_lemmatized\u001b[0m\u001b[0;34m.\u001b[0m\u001b[0mget\u001b[0m\u001b[0;34m(\u001b[0m\u001b[0mlem_bgram\u001b[0m\u001b[0;34m,\u001b[0m \u001b[0;36m0\u001b[0m\u001b[0;34m)\u001b[0m \u001b[0;34m+\u001b[0m \u001b[0mcount\u001b[0m\u001b[0;34m\u001b[0m\u001b[0;34m\u001b[0m\u001b[0m\n",
      "\u001b[0;32m<ipython-input-2-b78d03447ad5>\u001b[0m in \u001b[0;36mlemmatize\u001b[0;34m(word)\u001b[0m\n\u001b[1;32m      6\u001b[0m             \u001b[0;34m\"tokenizer\"\u001b[0m\u001b[0;34m:\u001b[0m \u001b[0;34m\"standard\"\u001b[0m\u001b[0;34m,\u001b[0m\u001b[0;34m\u001b[0m\u001b[0;34m\u001b[0m\u001b[0m\n\u001b[1;32m      7\u001b[0m              \u001b[0;34m\"filter\"\u001b[0m\u001b[0;34m:\u001b[0m \u001b[0;34m[\u001b[0m\u001b[0;34m\"kodeks_synonym\"\u001b[0m\u001b[0;34m,\u001b[0m \u001b[0;34m\"lowercase\"\u001b[0m\u001b[0;34m,\u001b[0m \u001b[0;34m\"morfologik_stem\"\u001b[0m\u001b[0;34m]\u001b[0m\u001b[0;34m,\u001b[0m\u001b[0;34m\u001b[0m\u001b[0;34m\u001b[0m\u001b[0m\n\u001b[0;32m----> 8\u001b[0;31m             \u001b[0;34m\"text\"\u001b[0m\u001b[0;34m:\u001b[0m \u001b[0mword\u001b[0m\u001b[0;34m\u001b[0m\u001b[0;34m\u001b[0m\u001b[0m\n\u001b[0m\u001b[1;32m      9\u001b[0m         }\n\u001b[1;32m     10\u001b[0m     )\n",
      "\u001b[0;32m~/.anaconda3/envs/ml/lib/python3.7/site-packages/elasticsearch/client/utils.py\u001b[0m in \u001b[0;36m_wrapped\u001b[0;34m(*args, **kwargs)\u001b[0m\n\u001b[1;32m     74\u001b[0m                 \u001b[0;32mif\u001b[0m \u001b[0mp\u001b[0m \u001b[0;32min\u001b[0m \u001b[0mkwargs\u001b[0m\u001b[0;34m:\u001b[0m\u001b[0;34m\u001b[0m\u001b[0;34m\u001b[0m\u001b[0m\n\u001b[1;32m     75\u001b[0m                     \u001b[0mparams\u001b[0m\u001b[0;34m[\u001b[0m\u001b[0mp\u001b[0m\u001b[0;34m]\u001b[0m \u001b[0;34m=\u001b[0m \u001b[0mkwargs\u001b[0m\u001b[0;34m.\u001b[0m\u001b[0mpop\u001b[0m\u001b[0;34m(\u001b[0m\u001b[0mp\u001b[0m\u001b[0;34m)\u001b[0m\u001b[0;34m\u001b[0m\u001b[0;34m\u001b[0m\u001b[0m\n\u001b[0;32m---> 76\u001b[0;31m             \u001b[0;32mreturn\u001b[0m \u001b[0mfunc\u001b[0m\u001b[0;34m(\u001b[0m\u001b[0;34m*\u001b[0m\u001b[0margs\u001b[0m\u001b[0;34m,\u001b[0m \u001b[0mparams\u001b[0m\u001b[0;34m=\u001b[0m\u001b[0mparams\u001b[0m\u001b[0;34m,\u001b[0m \u001b[0;34m**\u001b[0m\u001b[0mkwargs\u001b[0m\u001b[0;34m)\u001b[0m\u001b[0;34m\u001b[0m\u001b[0;34m\u001b[0m\u001b[0m\n\u001b[0m\u001b[1;32m     77\u001b[0m         \u001b[0;32mreturn\u001b[0m \u001b[0m_wrapped\u001b[0m\u001b[0;34m\u001b[0m\u001b[0;34m\u001b[0m\u001b[0m\n\u001b[1;32m     78\u001b[0m     \u001b[0;32mreturn\u001b[0m \u001b[0m_wrapper\u001b[0m\u001b[0;34m\u001b[0m\u001b[0;34m\u001b[0m\u001b[0m\n",
      "\u001b[0;32m~/.anaconda3/envs/ml/lib/python3.7/site-packages/elasticsearch/client/indices.py\u001b[0m in \u001b[0;36manalyze\u001b[0;34m(self, index, body, params)\u001b[0m\n\u001b[1;32m     17\u001b[0m         \"\"\"\n\u001b[1;32m     18\u001b[0m         return self.transport.perform_request('GET', _make_path(index,\n\u001b[0;32m---> 19\u001b[0;31m             '_analyze'), params=params, body=body)\n\u001b[0m\u001b[1;32m     20\u001b[0m \u001b[0;34m\u001b[0m\u001b[0m\n\u001b[1;32m     21\u001b[0m     \u001b[0;34m@\u001b[0m\u001b[0mquery_params\u001b[0m\u001b[0;34m(\u001b[0m\u001b[0;34m'allow_no_indices'\u001b[0m\u001b[0;34m,\u001b[0m \u001b[0;34m'expand_wildcards'\u001b[0m\u001b[0;34m,\u001b[0m \u001b[0;34m'ignore_unavailable'\u001b[0m\u001b[0;34m)\u001b[0m\u001b[0;34m\u001b[0m\u001b[0;34m\u001b[0m\u001b[0m\n",
      "\u001b[0;32m~/.anaconda3/envs/ml/lib/python3.7/site-packages/elasticsearch/transport.py\u001b[0m in \u001b[0;36mperform_request\u001b[0;34m(self, method, url, headers, params, body)\u001b[0m\n\u001b[1;32m    316\u001b[0m                 \u001b[0mdelay\u001b[0m \u001b[0;34m=\u001b[0m \u001b[0;36m2\u001b[0m\u001b[0;34m**\u001b[0m\u001b[0mattempt\u001b[0m \u001b[0;34m-\u001b[0m \u001b[0;36m1\u001b[0m\u001b[0;34m\u001b[0m\u001b[0;34m\u001b[0m\u001b[0m\n\u001b[1;32m    317\u001b[0m                 \u001b[0mtime\u001b[0m\u001b[0;34m.\u001b[0m\u001b[0msleep\u001b[0m\u001b[0;34m(\u001b[0m\u001b[0mdelay\u001b[0m\u001b[0;34m)\u001b[0m\u001b[0;34m\u001b[0m\u001b[0;34m\u001b[0m\u001b[0m\n\u001b[0;32m--> 318\u001b[0;31m                 \u001b[0mstatus\u001b[0m\u001b[0;34m,\u001b[0m \u001b[0mheaders_response\u001b[0m\u001b[0;34m,\u001b[0m \u001b[0mdata\u001b[0m \u001b[0;34m=\u001b[0m \u001b[0mconnection\u001b[0m\u001b[0;34m.\u001b[0m\u001b[0mperform_request\u001b[0m\u001b[0;34m(\u001b[0m\u001b[0mmethod\u001b[0m\u001b[0;34m,\u001b[0m \u001b[0murl\u001b[0m\u001b[0;34m,\u001b[0m \u001b[0mparams\u001b[0m\u001b[0;34m,\u001b[0m \u001b[0mbody\u001b[0m\u001b[0;34m,\u001b[0m \u001b[0mheaders\u001b[0m\u001b[0;34m=\u001b[0m\u001b[0mheaders\u001b[0m\u001b[0;34m,\u001b[0m \u001b[0mignore\u001b[0m\u001b[0;34m=\u001b[0m\u001b[0mignore\u001b[0m\u001b[0;34m,\u001b[0m \u001b[0mtimeout\u001b[0m\u001b[0;34m=\u001b[0m\u001b[0mtimeout\u001b[0m\u001b[0;34m)\u001b[0m\u001b[0;34m\u001b[0m\u001b[0;34m\u001b[0m\u001b[0m\n\u001b[0m\u001b[1;32m    319\u001b[0m \u001b[0;34m\u001b[0m\u001b[0m\n\u001b[1;32m    320\u001b[0m             \u001b[0;32mexcept\u001b[0m \u001b[0mTransportError\u001b[0m \u001b[0;32mas\u001b[0m \u001b[0me\u001b[0m\u001b[0;34m:\u001b[0m\u001b[0;34m\u001b[0m\u001b[0;34m\u001b[0m\u001b[0m\n",
      "\u001b[0;32m~/.anaconda3/envs/ml/lib/python3.7/site-packages/elasticsearch/connection/http_urllib3.py\u001b[0m in \u001b[0;36mperform_request\u001b[0;34m(self, method, url, params, body, timeout, ignore, headers)\u001b[0m\n\u001b[1;32m    170\u001b[0m                     \u001b[0mbody\u001b[0m \u001b[0;34m=\u001b[0m \u001b[0mgzip\u001b[0m\u001b[0;34m.\u001b[0m\u001b[0mzlib\u001b[0m\u001b[0;34m.\u001b[0m\u001b[0mcompress\u001b[0m\u001b[0;34m(\u001b[0m\u001b[0mbody\u001b[0m\u001b[0;34m)\u001b[0m\u001b[0;34m\u001b[0m\u001b[0;34m\u001b[0m\u001b[0m\n\u001b[1;32m    171\u001b[0m \u001b[0;34m\u001b[0m\u001b[0m\n\u001b[0;32m--> 172\u001b[0;31m             \u001b[0mresponse\u001b[0m \u001b[0;34m=\u001b[0m \u001b[0mself\u001b[0m\u001b[0;34m.\u001b[0m\u001b[0mpool\u001b[0m\u001b[0;34m.\u001b[0m\u001b[0murlopen\u001b[0m\u001b[0;34m(\u001b[0m\u001b[0mmethod\u001b[0m\u001b[0;34m,\u001b[0m \u001b[0murl\u001b[0m\u001b[0;34m,\u001b[0m \u001b[0mbody\u001b[0m\u001b[0;34m,\u001b[0m \u001b[0mretries\u001b[0m\u001b[0;34m=\u001b[0m\u001b[0mRetry\u001b[0m\u001b[0;34m(\u001b[0m\u001b[0;32mFalse\u001b[0m\u001b[0;34m)\u001b[0m\u001b[0;34m,\u001b[0m \u001b[0mheaders\u001b[0m\u001b[0;34m=\u001b[0m\u001b[0mrequest_headers\u001b[0m\u001b[0;34m,\u001b[0m \u001b[0;34m**\u001b[0m\u001b[0mkw\u001b[0m\u001b[0;34m)\u001b[0m\u001b[0;34m\u001b[0m\u001b[0;34m\u001b[0m\u001b[0m\n\u001b[0m\u001b[1;32m    173\u001b[0m             \u001b[0mduration\u001b[0m \u001b[0;34m=\u001b[0m \u001b[0mtime\u001b[0m\u001b[0;34m.\u001b[0m\u001b[0mtime\u001b[0m\u001b[0;34m(\u001b[0m\u001b[0;34m)\u001b[0m \u001b[0;34m-\u001b[0m \u001b[0mstart\u001b[0m\u001b[0;34m\u001b[0m\u001b[0;34m\u001b[0m\u001b[0m\n\u001b[1;32m    174\u001b[0m             \u001b[0mraw_data\u001b[0m \u001b[0;34m=\u001b[0m \u001b[0mresponse\u001b[0m\u001b[0;34m.\u001b[0m\u001b[0mdata\u001b[0m\u001b[0;34m.\u001b[0m\u001b[0mdecode\u001b[0m\u001b[0;34m(\u001b[0m\u001b[0;34m'utf-8'\u001b[0m\u001b[0;34m)\u001b[0m\u001b[0;34m\u001b[0m\u001b[0;34m\u001b[0m\u001b[0m\n",
      "\u001b[0;32m~/.anaconda3/envs/ml/lib/python3.7/site-packages/urllib3/connectionpool.py\u001b[0m in \u001b[0;36murlopen\u001b[0;34m(self, method, url, body, headers, retries, redirect, assert_same_host, timeout, pool_timeout, release_conn, chunked, body_pos, **response_kw)\u001b[0m\n\u001b[1;32m    586\u001b[0m             \u001b[0;31m# Request a connection from the queue.\u001b[0m\u001b[0;34m\u001b[0m\u001b[0;34m\u001b[0m\u001b[0;34m\u001b[0m\u001b[0m\n\u001b[1;32m    587\u001b[0m             \u001b[0mtimeout_obj\u001b[0m \u001b[0;34m=\u001b[0m \u001b[0mself\u001b[0m\u001b[0;34m.\u001b[0m\u001b[0m_get_timeout\u001b[0m\u001b[0;34m(\u001b[0m\u001b[0mtimeout\u001b[0m\u001b[0;34m)\u001b[0m\u001b[0;34m\u001b[0m\u001b[0;34m\u001b[0m\u001b[0m\n\u001b[0;32m--> 588\u001b[0;31m             \u001b[0mconn\u001b[0m \u001b[0;34m=\u001b[0m \u001b[0mself\u001b[0m\u001b[0;34m.\u001b[0m\u001b[0m_get_conn\u001b[0m\u001b[0;34m(\u001b[0m\u001b[0mtimeout\u001b[0m\u001b[0;34m=\u001b[0m\u001b[0mpool_timeout\u001b[0m\u001b[0;34m)\u001b[0m\u001b[0;34m\u001b[0m\u001b[0;34m\u001b[0m\u001b[0m\n\u001b[0m\u001b[1;32m    589\u001b[0m \u001b[0;34m\u001b[0m\u001b[0m\n\u001b[1;32m    590\u001b[0m             \u001b[0mconn\u001b[0m\u001b[0;34m.\u001b[0m\u001b[0mtimeout\u001b[0m \u001b[0;34m=\u001b[0m \u001b[0mtimeout_obj\u001b[0m\u001b[0;34m.\u001b[0m\u001b[0mconnect_timeout\u001b[0m\u001b[0;34m\u001b[0m\u001b[0;34m\u001b[0m\u001b[0m\n",
      "\u001b[0;32m~/.anaconda3/envs/ml/lib/python3.7/site-packages/urllib3/connectionpool.py\u001b[0m in \u001b[0;36m_get_conn\u001b[0;34m(self, timeout)\u001b[0m\n\u001b[1;32m    224\u001b[0m         \u001b[0mconn\u001b[0m \u001b[0;34m=\u001b[0m \u001b[0;32mNone\u001b[0m\u001b[0;34m\u001b[0m\u001b[0;34m\u001b[0m\u001b[0m\n\u001b[1;32m    225\u001b[0m         \u001b[0;32mtry\u001b[0m\u001b[0;34m:\u001b[0m\u001b[0;34m\u001b[0m\u001b[0;34m\u001b[0m\u001b[0m\n\u001b[0;32m--> 226\u001b[0;31m             \u001b[0mconn\u001b[0m \u001b[0;34m=\u001b[0m \u001b[0mself\u001b[0m\u001b[0;34m.\u001b[0m\u001b[0mpool\u001b[0m\u001b[0;34m.\u001b[0m\u001b[0mget\u001b[0m\u001b[0;34m(\u001b[0m\u001b[0mblock\u001b[0m\u001b[0;34m=\u001b[0m\u001b[0mself\u001b[0m\u001b[0;34m.\u001b[0m\u001b[0mblock\u001b[0m\u001b[0;34m,\u001b[0m \u001b[0mtimeout\u001b[0m\u001b[0;34m=\u001b[0m\u001b[0mtimeout\u001b[0m\u001b[0;34m)\u001b[0m\u001b[0;34m\u001b[0m\u001b[0;34m\u001b[0m\u001b[0m\n\u001b[0m\u001b[1;32m    227\u001b[0m \u001b[0;34m\u001b[0m\u001b[0m\n\u001b[1;32m    228\u001b[0m         \u001b[0;32mexcept\u001b[0m \u001b[0mAttributeError\u001b[0m\u001b[0;34m:\u001b[0m  \u001b[0;31m# self.pool is None\u001b[0m\u001b[0;34m\u001b[0m\u001b[0;34m\u001b[0m\u001b[0m\n",
      "\u001b[0;32m~/.anaconda3/envs/ml/lib/python3.7/queue.py\u001b[0m in \u001b[0;36mget\u001b[0;34m(self, block, timeout)\u001b[0m\n\u001b[1;32m    162\u001b[0m         in that case).\n\u001b[1;32m    163\u001b[0m         '''\n\u001b[0;32m--> 164\u001b[0;31m         \u001b[0;32mwith\u001b[0m \u001b[0mself\u001b[0m\u001b[0;34m.\u001b[0m\u001b[0mnot_empty\u001b[0m\u001b[0;34m:\u001b[0m\u001b[0;34m\u001b[0m\u001b[0;34m\u001b[0m\u001b[0m\n\u001b[0m\u001b[1;32m    165\u001b[0m             \u001b[0;32mif\u001b[0m \u001b[0;32mnot\u001b[0m \u001b[0mblock\u001b[0m\u001b[0;34m:\u001b[0m\u001b[0;34m\u001b[0m\u001b[0;34m\u001b[0m\u001b[0m\n\u001b[1;32m    166\u001b[0m                 \u001b[0;32mif\u001b[0m \u001b[0;32mnot\u001b[0m \u001b[0mself\u001b[0m\u001b[0;34m.\u001b[0m\u001b[0m_qsize\u001b[0m\u001b[0;34m(\u001b[0m\u001b[0;34m)\u001b[0m\u001b[0;34m:\u001b[0m\u001b[0;34m\u001b[0m\u001b[0;34m\u001b[0m\u001b[0m\n",
      "\u001b[0;32m~/.anaconda3/envs/ml/lib/python3.7/threading.py\u001b[0m in \u001b[0;36m__enter__\u001b[0;34m(self)\u001b[0m\n\u001b[1;32m    239\u001b[0m \u001b[0;34m\u001b[0m\u001b[0m\n\u001b[1;32m    240\u001b[0m     \u001b[0;32mdef\u001b[0m \u001b[0m__enter__\u001b[0m\u001b[0;34m(\u001b[0m\u001b[0mself\u001b[0m\u001b[0;34m)\u001b[0m\u001b[0;34m:\u001b[0m\u001b[0;34m\u001b[0m\u001b[0;34m\u001b[0m\u001b[0m\n\u001b[0;32m--> 241\u001b[0;31m         \u001b[0;32mreturn\u001b[0m \u001b[0mself\u001b[0m\u001b[0;34m.\u001b[0m\u001b[0m_lock\u001b[0m\u001b[0;34m.\u001b[0m\u001b[0m__enter__\u001b[0m\u001b[0;34m(\u001b[0m\u001b[0;34m)\u001b[0m\u001b[0;34m\u001b[0m\u001b[0;34m\u001b[0m\u001b[0m\n\u001b[0m\u001b[1;32m    242\u001b[0m \u001b[0;34m\u001b[0m\u001b[0m\n\u001b[1;32m    243\u001b[0m     \u001b[0;32mdef\u001b[0m \u001b[0m__exit__\u001b[0m\u001b[0;34m(\u001b[0m\u001b[0mself\u001b[0m\u001b[0;34m,\u001b[0m \u001b[0;34m*\u001b[0m\u001b[0margs\u001b[0m\u001b[0;34m)\u001b[0m\u001b[0;34m:\u001b[0m\u001b[0;34m\u001b[0m\u001b[0;34m\u001b[0m\u001b[0m\n",
      "\u001b[0;31mKeyboardInterrupt\u001b[0m: "
     ]
    }
   ],
   "source": [
    "lem_cache = {}\n",
    "bigrams_non_lemmatized = bigrams\n",
    "bigrams_lemmatized = {}\n",
    "\n",
    "for bgram, count in tqdm(bigrams_non_lemmatized.items()):\n",
    "    for w in bgram:\n",
    "        lem_cache[w] = lem_cache.get(w, lemmatize(w))\n",
    "    lem_bgram = tuple(lem_cache[w] for w in bgram)\n",
    "    bigrams_lemmatized[lem_bgram] = bigrams_lemmatized.get(lem_bgram, 0) + count "
   ]
  },
  {
   "cell_type": "code",
   "execution_count": 6,
   "metadata": {},
   "outputs": [],
   "source": [
    "bigrams = bigrams_non_lemmatized\n",
    "\n",
    "words = {}\n",
    "\n",
    "for ngram, cnt in bigrams.items():\n",
    "    for w in ngram:\n",
    "        words[w] = words.get(w, 0) + cnt"
   ]
  },
  {
   "cell_type": "markdown",
   "metadata": {},
   "source": [
    "2. Use [pointwise mutual information](https://en.wikipedia.org/wiki/Pointwise_mutual_information) to compute the measure \n",
    "   for all pairs of words. \n",
    "   "
   ]
  },
  {
   "cell_type": "code",
   "execution_count": 7,
   "metadata": {},
   "outputs": [],
   "source": [
    "def pmi(ngram: Tuple[str, ...], ngrams: Dict[Tuple[str, ...], int], words: Dict[str, int]):\n",
    "    return np.log((ngrams[ngram] * (len(words) ** len(ngram))) / (np.prod([words[w] for w in ngram]) * ngrams[ngram]))"
   ]
  },
  {
   "cell_type": "code",
   "execution_count": 8,
   "metadata": {},
   "outputs": [],
   "source": [
    "bgrams_pmis = {\n",
    "    ngram: pmi(ngram, bigrams, words)\n",
    "    for ngram in bigrams\n",
    "}"
   ]
  },
  {
   "cell_type": "markdown",
   "metadata": {},
   "source": [
    "3. Sort the word pairs according to that measure in the descending order and display 30 top results."
   ]
  },
  {
   "cell_type": "code",
   "execution_count": 9,
   "metadata": {},
   "outputs": [
    {
     "data": {
      "text/plain": [
       "[(('kompatybilność', 'elektromagnetyczna'), 21.875442614536063),\n",
       " (('agenci', 'ubezpieczeniowi'), 21.875442614536063),\n",
       " (('zołzy', 'strangles'), 21.875442614536063),\n",
       " (('waroza', 'varroosis'), 21.875442614536063),\n",
       " (('argyreia', 'nervosa'), 21.875442614536063),\n",
       " (('dekstromoramid', 'palfium'), 21.875442614536063),\n",
       " (('pirolidyna', 'lewotenacylomorfan'), 21.875442614536063),\n",
       " (('mppp', 'propionian'), 21.875442614536063),\n",
       " (('butylomorfolina', 'racemorfan'), 21.875442614536063),\n",
       " (('brolamfetamina', 'dob'), 21.875442614536063),\n",
       " (('netylomda', 'mdea'), 21.875442614536063),\n",
       " (('etycyklidyna', 'pce'), 21.875442614536063),\n",
       " (('psylocybina', 'diwodorofosforan'), 21.875442614536063),\n",
       " (('tenamfetamina', 'mda'), 21.875442614536063),\n",
       " (('tenocyklidyna', 'tcp'), 21.875442614536063),\n",
       " (('młody', 'naukowiec'), 21.875442614536063),\n",
       " (('benzol', 'benzen'), 21.875442614536063),\n",
       " (('toluol', 'toluen'), 21.875442614536063),\n",
       " (('ksylol', 'ksyleny'), 21.875442614536063),\n",
       " (('chronicznej', 'bezsenności'), 21.875442614536063),\n",
       " (('mączka', 'dolomitowa'), 21.875442614536063),\n",
       " (('beciki', 'niemowlęce'), 21.875442614536063),\n",
       " (('tornistry', 'nieskórzane'), 21.875442614536063),\n",
       " (('reduktory', 'membranowe'), 21.875442614536063),\n",
       " (('klinkier', 'cementowy'), 21.875442614536063),\n",
       " (('paź', 'dziernika'), 21.875442614536063),\n",
       " (('marynarka', 'wojenna'), 21.875442614536063),\n",
       " (('burakami', 'cukrowymi'), 21.875442614536063),\n",
       " (('izocyjaniany', 'tiocyjaniany'), 21.875442614536063),\n",
       " (('nm', 'nanometrów'), 21.875442614536063)]"
      ]
     },
     "execution_count": 9,
     "metadata": {},
     "output_type": "execute_result"
    }
   ],
   "source": [
    "sorted(bgrams_pmis.items(), key=lambda it: it[1])[-30:]"
   ]
  },
  {
   "cell_type": "markdown",
   "metadata": {},
   "source": [
    "4. Use [log likelihood ratio](http://tdunning.blogspot.com/2008/03/surprise-and-coincidence.html) (LLR) to compute the measure for all pairs of words."
   ]
  },
  {
   "cell_type": "code",
   "execution_count": 10,
   "metadata": {},
   "outputs": [],
   "source": [
    "def H(k: np.ndarray):\n",
    "    N = k.sum()\n",
    "    return (\n",
    "        (k / N) * np.log(k / N + 1e-7)\n",
    "    ).sum()\n",
    "\n",
    "def LLR(k: np.ndarray):\n",
    "    return (2 * k.sum()) * (\n",
    "        H(k) - \n",
    "        H(k.sum(axis=0)) - \n",
    "        H(k.sum(axis=1))\n",
    "    )"
   ]
  },
  {
   "cell_type": "code",
   "execution_count": 11,
   "metadata": {},
   "outputs": [],
   "source": [
    "all_ngrams = np.sum(list(bigrams.values()))\n",
    "\n",
    "def incidence(bigram: Tuple[str, str], ngrams: Dict[Tuple[str, str], int], words: Dict[str, int]) -> np.ndarray:\n",
    "    w1, w2 = bigram\n",
    "    w1_w2 = ngrams.get((w1, w2), 0)\n",
    "    w1_not_w2 = words[w1] - w1_w2\n",
    "    w2_not_w1 = words[w2] - w1_w2\n",
    "    not_w1_not_w2 = all_ngrams - w1_not_w2 - w1_not_w2 - w1_w2\n",
    "    return np.array([\n",
    "        [w1_w2, w1_not_w2],\n",
    "        [w2_not_w1, not_w1_not_w2]\n",
    "    ])"
   ]
  },
  {
   "cell_type": "code",
   "execution_count": 12,
   "metadata": {},
   "outputs": [],
   "source": [
    "bgrams_llrs = {\n",
    "    ngram: LLR(incidence(ngram, bigrams, words))\n",
    "    for ngram in bigrams\n",
    "}"
   ]
  },
  {
   "cell_type": "markdown",
   "metadata": {},
   "source": [
    "5. Sort the word pairs according to that measure in the descending order and display 30 top results."
   ]
  },
  {
   "cell_type": "code",
   "execution_count": 13,
   "metadata": {},
   "outputs": [
    {
     "data": {
      "text/plain": [
       "[(('r', 'nr'), 134012.18830984252),\n",
       " (('otrzymuje', 'brzmienie'), 106997.36017188063),\n",
       " (('w', 'w'), 91893.71067912418),\n",
       " (('których', 'mowa'), 67468.79360747724),\n",
       " (('mowa', 'w'), 57241.62809136362),\n",
       " (('w', 'ust'), 55088.89948920093),\n",
       " (('w', 'art'), 46277.94340040706),\n",
       " (('dodaje', 'się'), 45070.638207469456),\n",
       " (('którym', 'mowa'), 44034.65025962541),\n",
       " (('o', 'których'), 43274.75960586615),\n",
       " (('minister', 'właściwy'), 39045.33186066236),\n",
       " (('drodze', 'rozporządzenia'), 38645.14129208478),\n",
       " (('w', 'i'), 38623.81711701967),\n",
       " (('w', 'z'), 35071.16296182343),\n",
       " (('w', 'o'), 34645.317249131345),\n",
       " (('stosuje', 'się'), 32902.13860616883),\n",
       " (('rzeczypospolitej', 'polskiej'), 32822.212510543606),\n",
       " (('do', 'spraw'), 31120.05528889166),\n",
       " (('w', 'do'), 31081.6218271927),\n",
       " (('z', 'w'), 29960.436758928223),\n",
       " (('z', 'dnia'), 29675.016779344147),\n",
       " (('o', 'w'), 29421.730265136903),\n",
       " (('o', 'którym'), 28352.39772989688),\n",
       " (('na', 'podstawie'), 27965.359295005746),\n",
       " (('w', 'na'), 26660.2181144531),\n",
       " (('do', 'w'), 26270.539711519268),\n",
       " (('której', 'mowa'), 25324.824295362236),\n",
       " (('co', 'najmniej'), 24981.77552115533),\n",
       " (('od', 'dnia'), 24833.34926194602),\n",
       " (('w', 'lub'), 24186.15762016599)]"
      ]
     },
     "execution_count": 13,
     "metadata": {},
     "output_type": "execute_result"
    }
   ],
   "source": [
    "sorted(bgrams_llrs.items(), key=lambda it: it[1])[-30:][::-1]"
   ]
  },
  {
   "cell_type": "code",
   "execution_count": 14,
   "metadata": {},
   "outputs": [
    {
     "data": {
      "text/plain": [
       "26.008407292671116"
      ]
     },
     "execution_count": 14,
     "metadata": {},
     "output_type": "execute_result"
    }
   ],
   "source": [
    "np.mean(list(bgrams_llrs.values()))"
   ]
  },
  {
   "cell_type": "code",
   "execution_count": 15,
   "metadata": {},
   "outputs": [
    {
     "name": "stderr",
     "output_type": "stream",
     "text": [
      "/home/mprzewie/.anaconda3/envs/ml/lib/python3.7/site-packages/ipykernel_launcher.py:1: RuntimeWarning: invalid value encountered in log10\n",
      "  \"\"\"Entry point for launching an IPython kernel.\n",
      "/home/mprzewie/.anaconda3/envs/ml/lib/python3.7/site-packages/numpy/lib/histograms.py:754: RuntimeWarning: invalid value encountered in greater_equal\n",
      "  keep = (tmp_a >= first_edge)\n",
      "/home/mprzewie/.anaconda3/envs/ml/lib/python3.7/site-packages/numpy/lib/histograms.py:755: RuntimeWarning: invalid value encountered in less_equal\n",
      "  keep &= (tmp_a <= last_edge)\n"
     ]
    },
    {
     "data": {
      "image/png": "[encoded data removed]",
      "text/plain": [
       "<Figure size 432x288 with 1 Axes>"
      ]
     },
     "metadata": {
      "needs_background": "light"
     },
     "output_type": "display_data"
    }
   ],
   "source": [
    "plt.hist(np.log10(list(bgrams_llrs.values())), bins=100)\n",
    "plt.show()"
   ]
  },
  {
   "cell_type": "code",
   "execution_count": 17,
   "metadata": {},
   "outputs": [
    {
     "data": {
      "text/plain": [
       "[(('tekst', 'ustawy'), 2437.4300756196913),\n",
       " (('ustawy', 'przekazany'), 133.97692963909873),\n",
       " (('przekazany', 'do'), 77.88867348877669),\n",
       " (('do', 'senatu'), 73.3570682007736),\n",
       " (('senatu', 'zgodnie'), 97.2403712746118),\n",
       " (('zgodnie', 'z'), 9650.794779644017),\n",
       " (('z', 'art'), 2444.187249360115),\n",
       " (('regulaminu', 'sejmu'), 216.9060854501238),\n",
       " (('sejmu', 'ustawa'), 69.78098319158488),\n",
       " (('ustawa', 'z'), 2965.198374009075),\n",
       " (('z', 'dnia'), 29675.016779344147),\n",
       " (('r', 'o'), 14497.245206481473),\n",
       " (('o', 'zmianie'), 4225.0863874703955),\n",
       " (('zmianie', 'ustawy'), 4913.05607901784),\n",
       " (('ustawy', 'o'), 1610.811810404208),\n",
       " (('niektórych', 'emerytów'), 60.724174486204184),\n",
       " (('emerytów', 'rencistów'), 141.85410201641997),\n",
       " (('i', 'osób'), 468.3231857641318),\n",
       " (('osób', 'pobierających'), 369.3707730226997),\n",
       " (('pobierających', 'świadczenie'), 89.88968399594502)]"
      ]
     },
     "execution_count": 17,
     "metadata": {},
     "output_type": "execute_result"
    }
   ],
   "source": [
    "[(k,v) for (k, v) in bgrams_llrs.items() if v > 26][:20]"
   ]
  },
  {
   "cell_type": "markdown",
   "metadata": {},
   "source": [
    "6. Answer the following questions:\n",
    "   \n",
    "### Which measure works better for the problem?\n",
    "\n",
    "LLR, as it takes into account not only how often this combination of words occurs together as opposed to those words separately and how often it occurs as opposed to other combinations.\n",
    "\n",
    "### What would be needed, besides good measure, to build a dictionary of multiword expressions?\n",
    "\n",
    "A lot of computational power and memory. Also, a good lemmatizer.\n",
    "\n",
    "### Can you identify a certain threshold which clearly divides the *good* expressions from the *bad*?\n",
    "\n",
    "I'd go for the mean LLR, which is about 26."
   ]
  },
  {
   "cell_type": "markdown",
   "metadata": {},
   "source": [
    "## Hints\n",
    "\n",
    "1. An n-gram is a sequence containing n words. A unigram is a sequence containing one word,\n",
    "   a bigram is a sequence containing two words, etc.\n",
    "1. Pointwise mutual information is used to identify correlated events. It's based on the assumption that the events\n",
    "   follow normal distribution and that there is a minimal number of occurrences of the words. These assumptions hold\n",
    "   only for a subset of words.\n",
    "1. Log likelihood ratio test doesn't have these assumption. This makes it better suited for the task.\n",
    "1. There is [LLR implementation](https://github.com/tdunning/python-llr) in Python, implemented by Ted Dunning - the\n",
    "   author of the important work [Accurate Methods for the Statistics of Surprise and\n",
    "   Coincidence](https://aclweb.org/anthology/J93-1003) which introduces LLR to NLP.\n",
    "1. The methods presented in this exercise can be also used for the identification of words belonging to a given domain\n",
    "   (e.g. law, biology, medicine).\n",
    "1. [SRI LM](http://www.speech.sri.com/projects/srilm/) is useful for computing the counts of n-grams.\n",
    "1. ElasticSearch has a [shingle token filter](https://www.elastic.co/guide/en/elasticsearch/reference/current/analysis-shingle-tokenfilter.html) \n",
    "   which can be used to build the n-grams as well.\n",
    "1. More sophisticated algorithms for multiword expressions identification, such as \n",
    "   [AutoPhrase](https://github.com/shangjingbo1226/AutoPhrase) take into account more features including:\n",
    "   morphosyntactic tags, expression contexts, etc. and use data from e.g. Wikipedia, to automatically identify\n",
    "   high-quality multiword expressions and use them to train MWE classifiers.\n",
    "1. BTW \"multiword expressions\" is a mutliword expression itself ;-)"
   ]
  }
 ],
 "metadata": {
  "kernelspec": {
   "display_name": "Python (ml)",
   "language": "python",
   "name": "ml"
  },
  "language_info": {
   "codemirror_mode": {
    "name": "ipython",
    "version": 3
   },
   "file_extension": ".py",
   "mimetype": "text/x-python",
   "name": "python",
   "nbconvert_exporter": "python",
   "pygments_lexer": "ipython3",
   "version": "3.7.1"
  }
 },
 "nbformat": 4,
 "nbformat_minor": 2
}
