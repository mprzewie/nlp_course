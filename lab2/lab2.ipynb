{
 "cells": [
  {
   "cell_type": "markdown",
   "metadata": {},
   "source": [
    "# lab2 - Lemmatization and full text search (FTS)"
   ]
  },
  {
   "cell_type": "code",
   "execution_count": 114,
   "metadata": {},
   "outputs": [],
   "source": [
    "from elasticsearch import Elasticsearch\n",
    "from elasticsearch.client import IndicesClient\n",
    "from pathlib import Path\n",
    "from pprint import pprint"
   ]
  },
  {
   "cell_type": "markdown",
   "metadata": {},
   "source": [
    "## Tasks\n",
    "\n",
    "1. Install ElasticSearch (ES).\n",
    "2. Install an ES plugin for Polish https://github.com/allegro/elasticsearch-analysis-morfologik "
   ]
  },
  {
   "cell_type": "code",
   "execution_count": 2,
   "metadata": {},
   "outputs": [],
   "source": [
    "# !docker-compose up"
   ]
  },
  {
   "cell_type": "code",
   "execution_count": 3,
   "metadata": {},
   "outputs": [],
   "source": [
    "es = Elasticsearch()"
   ]
  },
  {
   "cell_type": "markdown",
   "metadata": {},
   "source": [
    "3. Define an ES analyzer for Polish texts containing:\n",
    "   1. standard tokenizer\n",
    "   1. synonym filter with the following definitions:\n",
    "      1. kpk - kodeks postępowania karnego\n",
    "      1. kpc - kodeks postępowania cywilnego\n",
    "      1. kk - kodeks karny\n",
    "      1. kc - kodeks cywilny\n",
    "   1. Morfologik-based lemmatizer\n",
    "   1. lowercase filter\n",
    "   "
   ]
  },
  {
   "cell_type": "code",
   "execution_count": 86,
   "metadata": {},
   "outputs": [
    {
     "data": {
      "text/plain": [
       "{'acknowledged': True, 'shards_acknowledged': True, 'index': 'przewie'}"
      ]
     },
     "execution_count": 86,
     "metadata": {},
     "output_type": "execute_result"
    }
   ],
   "source": [
    "es.indices.create(\n",
    "    index=\"przewie\",\n",
    "    body={\n",
    "        \"settings\": {\n",
    "            \"analysis\": {\n",
    "              \"analyzer\": \"morfologik\",\n",
    "              \"filter\": {\n",
    "                  \"kodeks_synonym\" : {\n",
    "                    \"type\" : \"synonym\",\n",
    "                        \"synonyms\" : [\n",
    "                            \"kpk => kodeks postępowania karnego\",\n",
    "                            \"kpc => kodeks postępowania cywilnego\",\n",
    "                            \"kk => kodeks karny\",\n",
    "                            \"kc => kodeks cywilny\",\n",
    "                        ]\n",
    "                    }    \n",
    "                  },\n",
    "            \"tokenizer\": \"standard\",\n",
    "            }\n",
    "        },\n",
    "        \"mappings\": {\n",
    "            \"act\": {\n",
    "                \"properties\": {\n",
    "                    \"text\": {\n",
    "                        \"type\": \"text\",\n",
    "                        \"analyzer\": \"morfologik\"\n",
    "                    }\n",
    "                }\n",
    "            }\n",
    "        }\n",
    "    }\n",
    ")\n",
    "\n"
   ]
  },
  {
   "cell_type": "code",
   "execution_count": 87,
   "metadata": {},
   "outputs": [],
   "source": [
    "def analyze(text):\n",
    "    return "
   ]
  },
  {
   "cell_type": "code",
   "execution_count": 118,
   "metadata": {},
   "outputs": [
    {
     "data": {
      "text/plain": [
       "{'tokens': [{'token': 'być',\n",
       "   'start_offset': 0,\n",
       "   'end_offset': 4,\n",
       "   'type': '<ALPHANUM>',\n",
       "   'position': 0},\n",
       "  {'token': 'analizować',\n",
       "   'start_offset': 5,\n",
       "   'end_offset': 15,\n",
       "   'type': '<ALPHANUM>',\n",
       "   'position': 1},\n",
       "  {'token': 'ustawa',\n",
       "   'start_offset': 16,\n",
       "   'end_offset': 22,\n",
       "   'type': '<ALPHANUM>',\n",
       "   'position': 2},\n",
       "  {'token': 'o',\n",
       "   'start_offset': 23,\n",
       "   'end_offset': 24,\n",
       "   'type': '<ALPHANUM>',\n",
       "   'position': 3},\n",
       "  {'token': 'ocean',\n",
       "   'start_offset': 23,\n",
       "   'end_offset': 24,\n",
       "   'type': '<ALPHANUM>',\n",
       "   'position': 3},\n",
       "  {'token': 'ojciec',\n",
       "   'start_offset': 23,\n",
       "   'end_offset': 24,\n",
       "   'type': '<ALPHANUM>',\n",
       "   'position': 3},\n",
       "  {'token': 'kodeks',\n",
       "   'start_offset': 25,\n",
       "   'end_offset': 27,\n",
       "   'type': 'SYNONYM',\n",
       "   'position': 4},\n",
       "  {'token': 'cywilny',\n",
       "   'start_offset': 25,\n",
       "   'end_offset': 27,\n",
       "   'type': 'SYNONYM',\n",
       "   'position': 5}]}"
      ]
     },
     "execution_count": 118,
     "metadata": {},
     "output_type": "execute_result"
    }
   ],
   "source": [
    "es.indices.analyze(\n",
    "        \"przewie\",\n",
    "        {\n",
    "            \"tokenizer\": \"standard\",\n",
    "             \"filter\": [\"kodeks_synonym\", \"lowercase\", \"morfologik_stem\"],\n",
    "            \"text\": \"będę analizować ustawy o kc\"\n",
    "        }\n",
    "    )"
   ]
  },
  {
   "cell_type": "markdown",
   "metadata": {},
   "source": [
    "4. Define an ES index for storing the contents of the legislative acts."
   ]
  },
  {
   "cell_type": "markdown",
   "metadata": {},
   "source": [
    "5. Load the data to the ES index."
   ]
  },
  {
   "cell_type": "code",
   "execution_count": 89,
   "metadata": {},
   "outputs": [],
   "source": [
    "for i, f in enumerate([f for f in Path(\"../data\").iterdir() if f.is_file()]):\n",
    "    text = f.open().read()\n",
    "    es.create(\n",
    "        index=\"przewie\",\n",
    "        doc_type=\"act\",\n",
    "        id=f,\n",
    "        body={\"text\": text}\n",
    "    )"
   ]
  },
  {
   "cell_type": "markdown",
   "metadata": {},
   "source": [
    "1. Determine the number of legislative acts containing the word **ustawa** (in any form)."
   ]
  },
  {
   "cell_type": "code",
   "execution_count": 93,
   "metadata": {},
   "outputs": [
    {
     "data": {
      "text/plain": [
       "1179"
      ]
     },
     "execution_count": 93,
     "metadata": {},
     "output_type": "execute_result"
    }
   ],
   "source": [
    "es.search(\n",
    "    index=\"przewie\",\n",
    "    doc_type=\"act\",\n",
    "    body={\n",
    "        \"query\": {\n",
    "            \"match\": {\n",
    "                \"text\": {\n",
    "                    \"query\": \"ustawa\"\n",
    "                }\n",
    "            }\n",
    "        }\n",
    "    }\n",
    ")[\"hits\"][\"total\"]"
   ]
  },
  {
   "cell_type": "markdown",
   "metadata": {},
   "source": [
    "2. Determine the number of legislative acts containing the words **kodeks postępowania cywilnego** in the specified order, but in an any inflection form.\n"
   ]
  },
  {
   "cell_type": "code",
   "execution_count": 99,
   "metadata": {},
   "outputs": [
    {
     "data": {
      "text/plain": [
       "100"
      ]
     },
     "execution_count": 99,
     "metadata": {},
     "output_type": "execute_result"
    }
   ],
   "source": [
    "es.search(\n",
    "    index=\"przewie\",\n",
    "    doc_type=\"act\",\n",
    "    body={\n",
    "        \"query\": {\n",
    "            \"match_phrase\": {\n",
    "                \"text\": {\n",
    "                    \"query\": \"kodeks postępowania cywilnego\"\n",
    "                }\n",
    "            }\n",
    "        }\n",
    "    }\n",
    ")[\"hits\"][\"total\"]"
   ]
  },
  {
   "cell_type": "markdown",
   "metadata": {},
   "source": [
    "3. Determine the number of legislative acts containing the words **wchodzi w życie** \n",
    "   (in any form) allowing for up to 2 additional words in the searched phrase.\n",
    "   "
   ]
  },
  {
   "cell_type": "code",
   "execution_count": 100,
   "metadata": {},
   "outputs": [
    {
     "data": {
      "text/plain": [
       "1175"
      ]
     },
     "execution_count": 100,
     "metadata": {},
     "output_type": "execute_result"
    }
   ],
   "source": [
    "es.search(\n",
    "    index=\"przewie\",\n",
    "    doc_type=\"act\",\n",
    "    body={\n",
    "        \"query\": {\n",
    "            \"match_phrase\": {\n",
    "                \"text\": {\n",
    "                    \"query\": \"wchodzi w życie\",\n",
    "                    \"slop\": 2\n",
    "                }\n",
    "            }\n",
    "        }\n",
    "    }\n",
    ")[\"hits\"][\"total\"]"
   ]
  },
  {
   "cell_type": "markdown",
   "metadata": {},
   "source": [
    "4. Determine the 10 documents that are the most relevant for the phrase **konstytucja**."
   ]
  },
  {
   "cell_type": "code",
   "execution_count": 115,
   "metadata": {},
   "outputs": [
    {
     "data": {
      "text/plain": [
       "['../data/2000_443.txt',\n",
       " '../data/1997_604.txt',\n",
       " '../data/1996_350.txt',\n",
       " '../data/1997_642.txt',\n",
       " '../data/1996_199.txt',\n",
       " '../data/1997_629.txt',\n",
       " '../data/1999_688.txt',\n",
       " '../data/2001_23.txt',\n",
       " '../data/1997_681.txt',\n",
       " '../data/2001_1082.txt']"
      ]
     },
     "execution_count": 115,
     "metadata": {},
     "output_type": "execute_result"
    }
   ],
   "source": [
    "best_hits = sorted(\n",
    "    es.search(\n",
    "        index=\"przewie\",\n",
    "        doc_type=\"act\",\n",
    "        body={\n",
    "            \"query\": {\n",
    "                \"match\": {\n",
    "                    \"text\": {\n",
    "                        \"query\": \"konstytucja\",\n",
    "                    }\n",
    "                }\n",
    "            },\n",
    "            \"highlight\": {\n",
    "                \"fields\": {\n",
    "                    \"text\": {}\n",
    "                },\n",
    "                \"number_of_fragments\": 3\n",
    "            }\n",
    "        }\n",
    "    )[\"hits\"][\"hits\"],\n",
    "    key= lambda h: -h[\"_score\"]\n",
    ")[:10]\n",
    "\n",
    "[h[\"_id\"] for h in best_hits]"
   ]
  },
  {
   "cell_type": "markdown",
   "metadata": {},
   "source": [
    "5. Print the excerpts containing the word **konstytucja** (up to three excerpts per document) \n",
    "   from the previous task."
   ]
  },
  {
   "cell_type": "code",
   "execution_count": 117,
   "metadata": {},
   "outputs": [
    {
     "name": "stdout",
     "output_type": "stream",
     "text": [
      "[{'text': ['umowy międzynarodowej i nie wypełnia przesłanek określonych w art. '\n",
      "           '89\\n'\n",
      "           '     ust. 1 lub art. 90 <em>Konstytucji</em>',\n",
      "           'międzynarodowej lub załącznika nie\\n'\n",
      "           '     wypełnia przesłanek określonych w art. 89 ust. 1 lub art. 90 '\n",
      "           '<em>Konstytucji</em>',\n",
      "           'co do zasadności wyboru\\n'\n",
      "           '  trybu ratyfikacji umowy międzynarodowej, o którym mowa w art. 89 '\n",
      "           'ust. 2\\n'\n",
      "           '  <em>Konstytucji</em>']},\n",
      " {'text': ['Jeżeli Trybunał Konstytucyjny wyda orzeczenie o sprzeczności celów '\n",
      "           'partii \\n'\n",
      "           '   politycznej z <em>Konstytucją</em>',\n",
      "           'Jeżeli Trybunał Konstytucyjny wyda orzeczenie o sprzeczności z '\n",
      "           '<em>Konstytucją</em>\\n'\n",
      "           '   celów lub działalności',\n",
      "           'Ciężar udowodnienia niezgodności z <em>Konstytucją</em> spoczywa\\n'\n",
      "           '                na wnioskodawcy, który w tym']},\n",
      " {'text': ['Za naruszenie <em>Konstytucji</em> lub ustawy, w związku z '\n",
      "           'zajmowanym\\n'\n",
      "           '              stanowiskiem lub w zakresie',\n",
      "           'W zakresie określonym w art. 107 <em>Konstytucji</em> '\n",
      "           'odpowiedzialność przed\\n'\n",
      "           '           Trybunałem Stanu ponoszą',\n",
      "           'Członkowie Rady Ministrów ponoszą odpowiedzialność przed '\n",
      "           'Trybunałem\\n'\n",
      "           '           Stanu za naruszenie <em>Konstytucji</em>']},\n",
      " {'text': ['wnioskami o:\\n'\n",
      "           '             1) stwierdzenie zgodności ustaw i umów '\n",
      "           'międzynarodowych z\\n'\n",
      "           '               <em>Konstytucją</em>',\n",
      "           'stwierdzenie zgodności przepisów prawa wydawanych przez\\n'\n",
      "           '               centralne organy państwowe, z <em>Konstytucją</em>',\n",
      "           'ratyfikowanymi\\n'\n",
      "           '               umowami międzynarodowymi i ustawami,\\n'\n",
      "           '             4) stwierdzenie zgodności z <em>Konstytucją</em>']},\n",
      " {'text': ['2c i art. 9-11 ustawy konstytucyjnej z dnia 23 kwietnia \\n'\n",
      "           '1992 r. o trybie przygotowania i uchwalenia <em>Konstytucji</em>',\n",
      "           'Prezydent Rzeczypospolitej Polskiej zarządza poddanie '\n",
      "           '<em>Konstytucji</em> pod referendum\\n'\n",
      "           '   w trybie określonym',\n",
      "           'Przyjęcie w referendum <em>Konstytucji</em> następuje wówczas, gdy '\n",
      "           'opowiedziała \\n'\n",
      "           '   się za nią większość biorących']},\n",
      " {'text': ['o zmianie ustawy konstytucyjnej o trybie przygotowania\\n'\n",
      "           '           i uchwalenia <em>Konstytucji</em> Rzeczypospolitej',\n",
      "           'W ustawie  konstytucyjnej z  dnia 23 kwietnia 1992 r. o trybie '\n",
      "           'przygotowania i \\n'\n",
      "           'uchwalenia <em>Konstytucji</em>',\n",
      "           'Do zgłoszenia projektu <em>Konstytucji</em> załącza się wykaz \\n'\n",
      "           '                obywateli popierających zgłoszenie']},\n",
      " {'text': ['postępowania w sprawie wykonywania inicjatywy\\n'\n",
      "           'ustawodawczej przez obywateli, o której mowa w art. 118 ust. 2 '\n",
      "           '<em>Konstytucji</em>',\n",
      "           'Projekt ustawy nie może dotyczyć spraw, dla których '\n",
      "           '<em>Konstytucja</em>\\n'\n",
      "           'Rzeczypospolitej Polskiej zastrzega wyłączną',\n",
      "           'Projekt ustawy wniesiony do Marszałka Sejmu powinien odpowiadać '\n",
      "           'wymogom\\n'\n",
      "           '  zawartym w <em>Konstytucji</em> i Regulaminie']},\n",
      " {'text': ['W Dzienniku Ustaw Rzeczypospolitej Polskiej, zwanym dalej '\n",
      "           '\"Dziennikiem\\n'\n",
      "           '  Ustaw\", ogłasza się:\\n'\n",
      "           '   1) <em>Konstytucję</em>',\n",
      "           'akty prawne dotyczące:\\n'\n",
      "           '   1) stanu wojny i zawarcia pokoju,\\n'\n",
      "           '   2) referendum zatwierdzającego zmianę <em>Konstytucji</em>',\n",
      "           'ministra, któremu Sejm wyraził wotum nieufności,\\n'\n",
      "           '     h) powoływania lub odwoływania na określone w '\n",
      "           '<em>Konstytucji</em>']},\n",
      " {'text': ['Rzecznik Praw Dziecka, zwany dalej Rzecznikiem, stoi na straży '\n",
      "           'praw dziecka\\n'\n",
      "           '  określonych w <em>Konstytucji</em>',\n",
      "           'uroczyście, że przy wykonywaniu powierzonych mi obowiązków\\n'\n",
      "           '     Rzecznika Praw Dziecka dochowam wierności '\n",
      "           '<em>Konstytucji</em>']},\n",
      " {'text': ['Krajowa Rada Sądownictwa, zwana dalej \"Radą\", realizuje cele '\n",
      "           'określone w\\n'\n",
      "           '  <em>Konstytucji</em> Rzeczypospolitej',\n",
      "           ') podejmuje uchwały w sprawach wystąpienia do Trybunału '\n",
      "           'Konstytucyjnego o\\n'\n",
      "           '     zbadanie zgodności z <em>Konstytucją</em>']}]\n"
     ]
    }
   ],
   "source": [
    "pprint([h[\"highlight\"] for h in best_hits])"
   ]
  },
  {
   "cell_type": "markdown",
   "metadata": {},
   "source": [
    "## Hints\n",
    "\n",
    "1. Full text search engines were developed for storing and searching textual data.\n",
    "1. The most popular FTSes are SOLR and ElasticSearch (ES).\n",
    "1. Some relational databases support full text search, but usually it is limited and not easy to adapt.\n",
    "1. Both for SOLR and ES there are plugins supporting Polish.\n",
    "1. FTSes use *inverted-index* to store the data. At loading time the text is split by *tokenizer* into \n",
    "   *tokens* and individual tokens go through *filters*. The resulting tokens are placed as keys in a hash-like\n",
    "   structure. The values are so called *posting lists*, containing pointers to the documents where the tokens come from.\n",
    "1. The minimal FTS configuration requires two elements: a tokenizer and a set of filters (the set might be empty in the extreme\n",
    "   case). **Changing the configuration of an index does not result in the new definitions being applied to the already\n",
    "   stored documents.** In such cases the index has to be *rebuilt*, meaning that the documents have to be loaded once\n",
    "   again.\n",
    "1. FTSes contain a large number of tokenizers, e.g. they may know semantics of HTML documents and treat HTML tags as\n",
    "   tokens. Some popular tokenizers include:\n",
    "   1. *standard tokenizer* - based on the Unicode tokenization rules,\n",
    "   1. *whitespace tokenizer* - which splits the tokens by white spaces,\n",
    "   1. *url tokenizer* - which keeps the URLs as indivisible tokens.\n",
    "1. Some tokens such as commas and full stops might be removed at the stage of filtering. Filtering of common tokens reduces the index size.\n",
    "1. Some popular filters include:\n",
    "   1. *lowercase filter* - which downcases the letters,\n",
    "   1. *ASCII folding filter* - which removes Polish diacritics,\n",
    "   1. *stop token filter* - which removes the specified tokens (described above),\n",
    "   1. *lematizers* - which find the base form of a word,\n",
    "   1. etc. (present implementation of ES has more than 50 filters)\n",
    "1. **Lemmatization** is a process when the inflected form of a word is replaced with its base form, e.g\n",
    "   the form *psu* is replaced with *pies*. You should notice that there are many ambiguous forms, e.g.\n",
    "   *goli* can have the following base forms: *golić*, *gol* and *goły*. To overcome the ambiguity, FTSes \n",
    "   take very pragmatic approach - for a given inflected form all possible base forms are put in the index.\n",
    "   Even though it's not valid from the linguistics' point of view, it works well in practice."
   ]
  }
 ],
 "metadata": {
  "kernelspec": {
   "display_name": "Python (ml)",
   "language": "python",
   "name": "ml"
  },
  "language_info": {
   "codemirror_mode": {
    "name": "ipython",
    "version": 3
   },
   "file_extension": ".py",
   "mimetype": "text/x-python",
   "name": "python",
   "nbconvert_exporter": "python",
   "pygments_lexer": "ipython3",
   "version": "3.7.1"
  }
 },
 "nbformat": 4,
 "nbformat_minor": 2
}
