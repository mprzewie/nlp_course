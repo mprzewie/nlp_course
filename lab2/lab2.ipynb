{
 "cells": [
  {
   "cell_type": "markdown",
   "metadata": {},
   "source": [
    "# lab2 - Lemmatization and full text search (FTS)"
   ]
  },
  {
   "cell_type": "code",
   "execution_count": null,
   "metadata": {},
   "outputs": [],
   "source": [
    "from elasticsearch import Elasticsearch\n",
    "from elasticsearch.client import IndicesClient"
   ]
  },
  {
   "cell_type": "markdown",
   "metadata": {},
   "source": [
    "## Tasks\n",
    "\n",
    "1. Install ElasticSearch (ES).\n",
    "2. Install an ES plugin for Polish https://github.com/allegro/elasticsearch-analysis-morfologik "
   ]
  },
  {
   "cell_type": "code",
   "execution_count": null,
   "metadata": {},
   "outputs": [],
   "source": [
    "# !docker-compose up"
   ]
  },
  {
   "cell_type": "code",
   "execution_count": null,
   "metadata": {},
   "outputs": [],
   "source": [
    "es = Elasticsearch()"
   ]
  },
  {
   "cell_type": "markdown",
   "metadata": {},
   "source": [
    "3. Define an ES analyzer for Polish texts containing:\n",
    "   1. standard tokenizer\n",
    "   1. synonym filter with the following definitions:\n",
    "      1. kpk - kodeks postępowania karnego\n",
    "      1. kpc - kodeks postępowania cywilnego\n",
    "      1. kk - kodeks karny\n",
    "      1. kc - kodeks cywilny\n",
    "   1. Morfologik-based lemmatizer\n",
    "   1. lowercase filter\n",
    "   "
   ]
  },
  {
   "cell_type": "code",
   "execution_count": null,
   "metadata": {},
   "outputs": [],
   "source": [
    "es.indices.delete(\"przewie\")"
   ]
  },
  {
   "cell_type": "code",
   "execution_count": null,
   "metadata": {},
   "outputs": [],
   "source": [
    "es.indices.create(\n",
    "    index=\"przewie\",\n",
    "    body={\n",
    "    \"analysis\": {\n",
    "      \"analyzer\": \"morfologik\",\n",
    "      \"filter\": {\n",
    "          \"kodeks_synonym\" : {\n",
    "            \"type\" : \"synonym\",\n",
    "                \"synonyms\" : [\n",
    "                    \"kpk => kodeks postępowania karnego\",\n",
    "                    \"kpc => kodeks postępowania cywilnego\",\n",
    "                    \"kk => kodeks karny\",\n",
    "                    \"kc => kodeks cywilny\",\n",
    "                ]\n",
    "            }    \n",
    "          },\n",
    "    }\n",
    "  }\n",
    ")\n",
    "\n"
   ]
  },
  {
   "cell_type": "code",
   "execution_count": null,
   "metadata": {},
   "outputs": [],
   "source": [
    "es.indices.analyze(\n",
    "    \"przewie\",\n",
    "    {\n",
    "        \"tokenizer\": \"standard\",\n",
    "         \"filter\": [\"kodeks_synonym\", \"lowercase\", \"morfologik_stem\"],\n",
    "        \"text\": \"JESTEM, kc three\",\n",
    "    }\n",
    ")"
   ]
  },
  {
   "cell_type": "markdown",
   "metadata": {},
   "source": [
    "4. Define an ES index for storing the contents of the legislative acts.\n",
    "5. Load the data to the ES index."
   ]
  },
  {
   "cell_type": "markdown",
   "metadata": {},
   "source": [
    "1. Determine the number of legislative acts containing the word **ustawa** (in any form).\n",
    "1. Determine the number of legislative acts containing the words **kodeks postępowania cywilnego** \n",
    "   in the specified order, but in an any inflection form.\n",
    "1. Determine the number of legislative acts containing the words **wchodzi w życie** \n",
    "   (in any form) allowing for up to 2 additional words in the searched phrase.\n",
    "1. Determine the 10 documents that are the most relevant for the phrase **konstytucja**.\n",
    "1. Print the excerpts containing the word **konstytucja** (up to three excerpts per document) \n",
    "   from the previous task."
   ]
  },
  {
   "cell_type": "markdown",
   "metadata": {},
   "source": [
    "## Hints\n",
    "\n",
    "1. Full text search engines were developed for storing and searching textual data.\n",
    "1. The most popular FTSes are SOLR and ElasticSearch (ES).\n",
    "1. Some relational databases support full text search, but usually it is limited and not easy to adapt.\n",
    "1. Both for SOLR and ES there are plugins supporting Polish.\n",
    "1. FTSes use *inverted-index* to store the data. At loading time the text is split by *tokenizer* into \n",
    "   *tokens* and individual tokens go through *filters*. The resulting tokens are placed as keys in a hash-like\n",
    "   structure. The values are so called *posting lists*, containing pointers to the documents where the tokens come from.\n",
    "1. The minimal FTS configuration requires two elements: a tokenizer and a set of filters (the set might be empty in the extreme\n",
    "   case). **Changing the configuration of an index does not result in the new definitions being applied to the already\n",
    "   stored documents.** In such cases the index has to be *rebuilt*, meaning that the documents have to be loaded once\n",
    "   again.\n",
    "1. FTSes contain a large number of tokenizers, e.g. they may know semantics of HTML documents and treat HTML tags as\n",
    "   tokens. Some popular tokenizers include:\n",
    "   1. *standard tokenizer* - based on the Unicode tokenization rules,\n",
    "   1. *whitespace tokenizer* - which splits the tokens by white spaces,\n",
    "   1. *url tokenizer* - which keeps the URLs as indivisible tokens.\n",
    "1. Some tokens such as commas and full stops might be removed at the stage of filtering. Filtering of common tokens reduces the index size.\n",
    "1. Some popular filters include:\n",
    "   1. *lowercase filter* - which downcases the letters,\n",
    "   1. *ASCII folding filter* - which removes Polish diacritics,\n",
    "   1. *stop token filter* - which removes the specified tokens (described above),\n",
    "   1. *lematizers* - which find the base form of a word,\n",
    "   1. etc. (present implementation of ES has more than 50 filters)\n",
    "1. **Lemmatization** is a process when the inflected form of a word is replaced with its base form, e.g\n",
    "   the form *psu* is replaced with *pies*. You should notice that there are many ambiguous forms, e.g.\n",
    "   *goli* can have the following base forms: *golić*, *gol* and *goły*. To overcome the ambiguity, FTSes \n",
    "   take very pragmatic approach - for a given inflected form all possible base forms are put in the index.\n",
    "   Even though it's not valid from the linguistics' point of view, it works well in practice."
   ]
  },
  {
   "cell_type": "code",
   "execution_count": null,
   "metadata": {},
   "outputs": [],
   "source": []
  }
 ],
 "metadata": {
  "kernelspec": {
   "display_name": "Python (ml)",
   "language": "python",
   "name": "ml"
  },
  "language_info": {
   "codemirror_mode": {
    "name": "ipython",
    "version": 3
   },
   "file_extension": ".py",
   "mimetype": "text/x-python",
   "name": "python",
   "nbconvert_exporter": "python",
   "pygments_lexer": "ipython3",
   "version": "3.7.1"
  }
 },
 "nbformat": 4,
 "nbformat_minor": 2
}
